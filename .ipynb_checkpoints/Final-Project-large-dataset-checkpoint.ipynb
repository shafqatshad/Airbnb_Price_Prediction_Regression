{
 "cells": [
  {
   "cell_type": "markdown",
   "metadata": {},
   "source": [
    "# Chicago's Airbnb price predictor"
   ]
  },
  {
   "cell_type": "code",
   "execution_count": 1,
   "metadata": {},
   "outputs": [
    {
     "name": "stdout",
     "output_type": "stream",
     "text": [
      "Seaborn installed and imported!\n"
     ]
    },
    {
     "data": {
      "text/html": [
       "<div>\n",
       "<style scoped>\n",
       "    .dataframe tbody tr th:only-of-type {\n",
       "        vertical-align: middle;\n",
       "    }\n",
       "\n",
       "    .dataframe tbody tr th {\n",
       "        vertical-align: top;\n",
       "    }\n",
       "\n",
       "    .dataframe thead th {\n",
       "        text-align: right;\n",
       "    }\n",
       "</style>\n",
       "<table border=\"1\" class=\"dataframe\">\n",
       "  <thead>\n",
       "    <tr style=\"text-align: right;\">\n",
       "      <th></th>\n",
       "      <th>id</th>\n",
       "      <th>listing_url</th>\n",
       "      <th>scrape_id</th>\n",
       "      <th>last_scraped</th>\n",
       "      <th>name</th>\n",
       "      <th>description</th>\n",
       "      <th>neighborhood_overview</th>\n",
       "      <th>picture_url</th>\n",
       "      <th>host_id</th>\n",
       "      <th>host_url</th>\n",
       "      <th>...</th>\n",
       "      <th>review_scores_communication</th>\n",
       "      <th>review_scores_location</th>\n",
       "      <th>review_scores_value</th>\n",
       "      <th>license</th>\n",
       "      <th>instant_bookable</th>\n",
       "      <th>calculated_host_listings_count</th>\n",
       "      <th>calculated_host_listings_count_entire_homes</th>\n",
       "      <th>calculated_host_listings_count_private_rooms</th>\n",
       "      <th>calculated_host_listings_count_shared_rooms</th>\n",
       "      <th>reviews_per_month</th>\n",
       "    </tr>\n",
       "  </thead>\n",
       "  <tbody>\n",
       "    <tr>\n",
       "      <th>0</th>\n",
       "      <td>2384</td>\n",
       "      <td>https://www.airbnb.com/rooms/2384</td>\n",
       "      <td>20201220034219</td>\n",
       "      <td>2020-12-20</td>\n",
       "      <td>Hyde Park - Walk to UChicago, 10 min to McCormick</td>\n",
       "      <td>Visiting The University of Chicago or attendin...</td>\n",
       "      <td>The apartment is less than one block from beau...</td>\n",
       "      <td>https://a0.muscache.com/pictures/acf6b3c0-47f2...</td>\n",
       "      <td>2613</td>\n",
       "      <td>https://www.airbnb.com/users/show/2613</td>\n",
       "      <td>...</td>\n",
       "      <td>10.0</td>\n",
       "      <td>10.0</td>\n",
       "      <td>10.0</td>\n",
       "      <td>R17000015609</td>\n",
       "      <td>f</td>\n",
       "      <td>1</td>\n",
       "      <td>0</td>\n",
       "      <td>1</td>\n",
       "      <td>0</td>\n",
       "      <td>2.50</td>\n",
       "    </tr>\n",
       "    <tr>\n",
       "      <th>1</th>\n",
       "      <td>4505</td>\n",
       "      <td>https://www.airbnb.com/rooms/4505</td>\n",
       "      <td>20201220034219</td>\n",
       "      <td>2020-12-20</td>\n",
       "      <td>394 Great Reviews. 127 y/o House. 40 yds to tr...</td>\n",
       "      <td>We have been closed for quite a while and will...</td>\n",
       "      <td>NaN</td>\n",
       "      <td>https://a0.muscache.com/pictures/10628083/3543...</td>\n",
       "      <td>5775</td>\n",
       "      <td>https://www.airbnb.com/users/show/5775</td>\n",
       "      <td>...</td>\n",
       "      <td>10.0</td>\n",
       "      <td>10.0</td>\n",
       "      <td>9.0</td>\n",
       "      <td>R19000037538</td>\n",
       "      <td>t</td>\n",
       "      <td>1</td>\n",
       "      <td>1</td>\n",
       "      <td>0</td>\n",
       "      <td>0</td>\n",
       "      <td>2.75</td>\n",
       "    </tr>\n",
       "    <tr>\n",
       "      <th>2</th>\n",
       "      <td>7126</td>\n",
       "      <td>https://www.airbnb.com/rooms/7126</td>\n",
       "      <td>20201220034219</td>\n",
       "      <td>2020-12-21</td>\n",
       "      <td>Tiny Studio Apartment 94 Walk Score</td>\n",
       "      <td>A very small studio in a wonderful neighborhoo...</td>\n",
       "      <td>Ukrainian Village was just named \"Hottest Neig...</td>\n",
       "      <td>https://a0.muscache.com/pictures/51073/16c81c7...</td>\n",
       "      <td>17928</td>\n",
       "      <td>https://www.airbnb.com/users/show/17928</td>\n",
       "      <td>...</td>\n",
       "      <td>10.0</td>\n",
       "      <td>10.0</td>\n",
       "      <td>10.0</td>\n",
       "      <td>R18000034991</td>\n",
       "      <td>f</td>\n",
       "      <td>1</td>\n",
       "      <td>1</td>\n",
       "      <td>0</td>\n",
       "      <td>0</td>\n",
       "      <td>2.77</td>\n",
       "    </tr>\n",
       "    <tr>\n",
       "      <th>3</th>\n",
       "      <td>9811</td>\n",
       "      <td>https://www.airbnb.com/rooms/9811</td>\n",
       "      <td>20201220034219</td>\n",
       "      <td>2020-12-20</td>\n",
       "      <td>Barbara's Hideaway - Old Town</td>\n",
       "      <td>One-bedroom hideaway tucked into Old Town step...</td>\n",
       "      <td>Chicago’s Old Town neighborhood is squeezed be...</td>\n",
       "      <td>https://a0.muscache.com/pictures/37df1935-855c...</td>\n",
       "      <td>33004</td>\n",
       "      <td>https://www.airbnb.com/users/show/33004</td>\n",
       "      <td>...</td>\n",
       "      <td>9.0</td>\n",
       "      <td>10.0</td>\n",
       "      <td>9.0</td>\n",
       "      <td>2079260</td>\n",
       "      <td>f</td>\n",
       "      <td>11</td>\n",
       "      <td>11</td>\n",
       "      <td>0</td>\n",
       "      <td>0</td>\n",
       "      <td>0.65</td>\n",
       "    </tr>\n",
       "    <tr>\n",
       "      <th>4</th>\n",
       "      <td>10610</td>\n",
       "      <td>https://www.airbnb.com/rooms/10610</td>\n",
       "      <td>20201220034219</td>\n",
       "      <td>2020-12-20</td>\n",
       "      <td>3 Comforts of Cooperative Living</td>\n",
       "      <td>The condo is the 2nd floor in a lovely 1912 3-...</td>\n",
       "      <td>It's a 10 minute walk from the lakefront bike ...</td>\n",
       "      <td>https://a0.muscache.com/pictures/51944609/8d76...</td>\n",
       "      <td>2140</td>\n",
       "      <td>https://www.airbnb.com/users/show/2140</td>\n",
       "      <td>...</td>\n",
       "      <td>9.0</td>\n",
       "      <td>10.0</td>\n",
       "      <td>9.0</td>\n",
       "      <td>City registration pending</td>\n",
       "      <td>f</td>\n",
       "      <td>2</td>\n",
       "      <td>0</td>\n",
       "      <td>2</td>\n",
       "      <td>0</td>\n",
       "      <td>0.60</td>\n",
       "    </tr>\n",
       "  </tbody>\n",
       "</table>\n",
       "<p>5 rows × 74 columns</p>\n",
       "</div>"
      ],
      "text/plain": [
       "      id                         listing_url       scrape_id last_scraped  \\\n",
       "0   2384   https://www.airbnb.com/rooms/2384  20201220034219   2020-12-20   \n",
       "1   4505   https://www.airbnb.com/rooms/4505  20201220034219   2020-12-20   \n",
       "2   7126   https://www.airbnb.com/rooms/7126  20201220034219   2020-12-21   \n",
       "3   9811   https://www.airbnb.com/rooms/9811  20201220034219   2020-12-20   \n",
       "4  10610  https://www.airbnb.com/rooms/10610  20201220034219   2020-12-20   \n",
       "\n",
       "                                                name  \\\n",
       "0  Hyde Park - Walk to UChicago, 10 min to McCormick   \n",
       "1  394 Great Reviews. 127 y/o House. 40 yds to tr...   \n",
       "2                Tiny Studio Apartment 94 Walk Score   \n",
       "3                      Barbara's Hideaway - Old Town   \n",
       "4                   3 Comforts of Cooperative Living   \n",
       "\n",
       "                                         description  \\\n",
       "0  Visiting The University of Chicago or attendin...   \n",
       "1  We have been closed for quite a while and will...   \n",
       "2  A very small studio in a wonderful neighborhoo...   \n",
       "3  One-bedroom hideaway tucked into Old Town step...   \n",
       "4  The condo is the 2nd floor in a lovely 1912 3-...   \n",
       "\n",
       "                               neighborhood_overview  \\\n",
       "0  The apartment is less than one block from beau...   \n",
       "1                                                NaN   \n",
       "2  Ukrainian Village was just named \"Hottest Neig...   \n",
       "3  Chicago’s Old Town neighborhood is squeezed be...   \n",
       "4  It's a 10 minute walk from the lakefront bike ...   \n",
       "\n",
       "                                         picture_url  host_id  \\\n",
       "0  https://a0.muscache.com/pictures/acf6b3c0-47f2...     2613   \n",
       "1  https://a0.muscache.com/pictures/10628083/3543...     5775   \n",
       "2  https://a0.muscache.com/pictures/51073/16c81c7...    17928   \n",
       "3  https://a0.muscache.com/pictures/37df1935-855c...    33004   \n",
       "4  https://a0.muscache.com/pictures/51944609/8d76...     2140   \n",
       "\n",
       "                                  host_url  ... review_scores_communication  \\\n",
       "0   https://www.airbnb.com/users/show/2613  ...                        10.0   \n",
       "1   https://www.airbnb.com/users/show/5775  ...                        10.0   \n",
       "2  https://www.airbnb.com/users/show/17928  ...                        10.0   \n",
       "3  https://www.airbnb.com/users/show/33004  ...                         9.0   \n",
       "4   https://www.airbnb.com/users/show/2140  ...                         9.0   \n",
       "\n",
       "  review_scores_location review_scores_value                    license  \\\n",
       "0                   10.0                10.0               R17000015609   \n",
       "1                   10.0                 9.0               R19000037538   \n",
       "2                   10.0                10.0               R18000034991   \n",
       "3                   10.0                 9.0                    2079260   \n",
       "4                   10.0                 9.0  City registration pending   \n",
       "\n",
       "  instant_bookable calculated_host_listings_count  \\\n",
       "0                f                              1   \n",
       "1                t                              1   \n",
       "2                f                              1   \n",
       "3                f                             11   \n",
       "4                f                              2   \n",
       "\n",
       "  calculated_host_listings_count_entire_homes  \\\n",
       "0                                           0   \n",
       "1                                           1   \n",
       "2                                           1   \n",
       "3                                          11   \n",
       "4                                           0   \n",
       "\n",
       "  calculated_host_listings_count_private_rooms  \\\n",
       "0                                            1   \n",
       "1                                            0   \n",
       "2                                            0   \n",
       "3                                            0   \n",
       "4                                            2   \n",
       "\n",
       "  calculated_host_listings_count_shared_rooms reviews_per_month  \n",
       "0                                           0              2.50  \n",
       "1                                           0              2.75  \n",
       "2                                           0              2.77  \n",
       "3                                           0              0.65  \n",
       "4                                           0              0.60  \n",
       "\n",
       "[5 rows x 74 columns]"
      ]
     },
     "execution_count": 1,
     "metadata": {},
     "output_type": "execute_result"
    }
   ],
   "source": [
    "import numpy as np \n",
    "import pandas as pd\n",
    "from scipy import stats\n",
    "import matplotlib as mpl\n",
    "import matplotlib.pyplot as plt\n",
    "from sklearn.preprocessing import LabelEncoder\n",
    "from sklearn.metrics import r2_score \n",
    "\n",
    "import seaborn as sns\n",
    "print('Seaborn installed and imported!')\n",
    "\n",
    "chicago = pd.read_csv(\"Chicago_large_dataset.csv\")\n",
    "chicago.head()"
   ]
  },
  {
   "cell_type": "code",
   "execution_count": 2,
   "metadata": {},
   "outputs": [
    {
     "name": "stdout",
     "output_type": "stream",
     "text": [
      "(6523, 74)\n"
     ]
    }
   ],
   "source": [
    "print(chicago.shape) #The dataset has 6523 rows and 74 columns"
   ]
  },
  {
   "cell_type": "markdown",
   "metadata": {},
   "source": [
    "# Drop unnecesary columns"
   ]
  },
  {
   "cell_type": "code",
   "execution_count": 3,
   "metadata": {},
   "outputs": [
    {
     "name": "stdout",
     "output_type": "stream",
     "text": [
      "<class 'pandas.core.frame.DataFrame'>\n",
      "RangeIndex: 6523 entries, 0 to 6522\n",
      "Data columns (total 74 columns):\n",
      " #   Column                                        Non-Null Count  Dtype  \n",
      "---  ------                                        --------------  -----  \n",
      " 0   id                                            6523 non-null   int64  \n",
      " 1   listing_url                                   6523 non-null   object \n",
      " 2   scrape_id                                     6523 non-null   int64  \n",
      " 3   last_scraped                                  6523 non-null   object \n",
      " 4   name                                          6523 non-null   object \n",
      " 5   description                                   6503 non-null   object \n",
      " 6   neighborhood_overview                         4768 non-null   object \n",
      " 7   picture_url                                   6523 non-null   object \n",
      " 8   host_id                                       6523 non-null   int64  \n",
      " 9   host_url                                      6523 non-null   object \n",
      " 10  host_name                                     6523 non-null   object \n",
      " 11  host_since                                    6523 non-null   object \n",
      " 12  host_location                                 6514 non-null   object \n",
      " 13  host_about                                    4532 non-null   object \n",
      " 14  host_response_time                            5026 non-null   object \n",
      " 15  host_response_rate                            5026 non-null   object \n",
      " 16  host_acceptance_rate                          5692 non-null   object \n",
      " 17  host_is_superhost                             6523 non-null   object \n",
      " 18  host_thumbnail_url                            6523 non-null   object \n",
      " 19  host_picture_url                              6523 non-null   object \n",
      " 20  host_neighbourhood                            5899 non-null   object \n",
      " 21  host_listings_count                           6523 non-null   int64  \n",
      " 22  host_total_listings_count                     6523 non-null   int64  \n",
      " 23  host_verifications                            6523 non-null   object \n",
      " 24  host_has_profile_pic                          6523 non-null   object \n",
      " 25  host_identity_verified                        6523 non-null   object \n",
      " 26  neighbourhood                                 4769 non-null   object \n",
      " 27  neighbourhood_cleansed                        6523 non-null   object \n",
      " 28  neighbourhood_group_cleansed                  0 non-null      float64\n",
      " 29  latitude                                      6523 non-null   float64\n",
      " 30  longitude                                     6523 non-null   float64\n",
      " 31  property_type                                 6523 non-null   object \n",
      " 32  room_type                                     6523 non-null   object \n",
      " 33  accommodates                                  6523 non-null   int64  \n",
      " 34  bathrooms                                     0 non-null      float64\n",
      " 35  bathrooms_text                                6514 non-null   object \n",
      " 36  bedrooms                                      6009 non-null   float64\n",
      " 37  beds                                          6472 non-null   float64\n",
      " 38  amenities                                     6523 non-null   object \n",
      " 39  price                                         6523 non-null   object \n",
      " 40  minimum_nights                                6523 non-null   int64  \n",
      " 41  maximum_nights                                6523 non-null   int64  \n",
      " 42  minimum_minimum_nights                        6523 non-null   int64  \n",
      " 43  maximum_minimum_nights                        6523 non-null   int64  \n",
      " 44  minimum_maximum_nights                        6523 non-null   int64  \n",
      " 45  maximum_maximum_nights                        6523 non-null   int64  \n",
      " 46  minimum_nights_avg_ntm                        6523 non-null   float64\n",
      " 47  maximum_nights_avg_ntm                        6523 non-null   float64\n",
      " 48  calendar_updated                              0 non-null      float64\n",
      " 49  has_availability                              6523 non-null   object \n",
      " 50  availability_30                               6523 non-null   int64  \n",
      " 51  availability_60                               6523 non-null   int64  \n",
      " 52  availability_90                               6523 non-null   int64  \n",
      " 53  availability_365                              6523 non-null   int64  \n",
      " 54  calendar_last_scraped                         6523 non-null   object \n",
      " 55  number_of_reviews                             6523 non-null   int64  \n",
      " 56  number_of_reviews_ltm                         6523 non-null   int64  \n",
      " 57  number_of_reviews_l30d                        6523 non-null   int64  \n",
      " 58  first_review                                  5238 non-null   object \n",
      " 59  last_review                                   5238 non-null   object \n",
      " 60  review_scores_rating                          5192 non-null   float64\n",
      " 61  review_scores_accuracy                        5172 non-null   float64\n",
      " 62  review_scores_cleanliness                     5172 non-null   float64\n",
      " 63  review_scores_checkin                         5171 non-null   float64\n",
      " 64  review_scores_communication                   5170 non-null   float64\n",
      " 65  review_scores_location                        5171 non-null   float64\n",
      " 66  review_scores_value                           5171 non-null   float64\n",
      " 67  license                                       6232 non-null   object \n",
      " 68  instant_bookable                              6523 non-null   object \n",
      " 69  calculated_host_listings_count                6523 non-null   int64  \n",
      " 70  calculated_host_listings_count_entire_homes   6523 non-null   int64  \n",
      " 71  calculated_host_listings_count_private_rooms  6523 non-null   int64  \n",
      " 72  calculated_host_listings_count_shared_rooms   6523 non-null   int64  \n",
      " 73  reviews_per_month                             5238 non-null   float64\n",
      "dtypes: float64(17), int64(23), object(34)\n",
      "memory usage: 3.7+ MB\n"
     ]
    }
   ],
   "source": [
    "chicago.info()"
   ]
  },
  {
   "cell_type": "markdown",
   "metadata": {},
   "source": [
    "The dataset consists of 74 columns and 6523 rows. The data types are integers, floats and objects.We can also observe that there are some missing values from \n",
    "the follwing columns(  neighborhood_overview ,description,neighborhood_overview, host_location,host_about,host_response_time,host_response_rate, host_acceptance_rate,host_neighbourhood,  neighbourhood , bathrooms_text ,  bedrooms..ect) And some columns with no values( calendar_updated, bathrooms,neighbourhood_group_cleansed )."
   ]
  },
  {
   "cell_type": "markdown",
   "metadata": {},
   "source": [
    "Let's look into the different columns and drop the ones that either the future Airbnb host would not have at the time and also the data that do not work with our regression model."
   ]
  },
  {
   "cell_type": "code",
   "execution_count": 4,
   "metadata": {
    "scrolled": false
   },
   "outputs": [
    {
     "data": {
      "text/plain": [
       "Index(['id', 'listing_url', 'scrape_id', 'last_scraped', 'name', 'description',\n",
       "       'neighborhood_overview', 'picture_url', 'host_id', 'host_url',\n",
       "       'host_name', 'host_since', 'host_location', 'host_about',\n",
       "       'host_response_time', 'host_response_rate', 'host_acceptance_rate',\n",
       "       'host_is_superhost', 'host_thumbnail_url', 'host_picture_url',\n",
       "       'host_neighbourhood', 'host_listings_count',\n",
       "       'host_total_listings_count', 'host_verifications',\n",
       "       'host_has_profile_pic', 'host_identity_verified', 'neighbourhood',\n",
       "       'neighbourhood_cleansed', 'neighbourhood_group_cleansed', 'latitude',\n",
       "       'longitude', 'property_type', 'room_type', 'accommodates', 'bathrooms',\n",
       "       'bathrooms_text', 'bedrooms', 'beds', 'amenities', 'price',\n",
       "       'minimum_nights', 'maximum_nights', 'minimum_minimum_nights',\n",
       "       'maximum_minimum_nights', 'minimum_maximum_nights',\n",
       "       'maximum_maximum_nights', 'minimum_nights_avg_ntm',\n",
       "       'maximum_nights_avg_ntm', 'calendar_updated', 'has_availability',\n",
       "       'availability_30', 'availability_60', 'availability_90',\n",
       "       'availability_365', 'calendar_last_scraped', 'number_of_reviews',\n",
       "       'number_of_reviews_ltm', 'number_of_reviews_l30d', 'first_review',\n",
       "       'last_review', 'review_scores_rating', 'review_scores_accuracy',\n",
       "       'review_scores_cleanliness', 'review_scores_checkin',\n",
       "       'review_scores_communication', 'review_scores_location',\n",
       "       'review_scores_value', 'license', 'instant_bookable',\n",
       "       'calculated_host_listings_count',\n",
       "       'calculated_host_listings_count_entire_homes',\n",
       "       'calculated_host_listings_count_private_rooms',\n",
       "       'calculated_host_listings_count_shared_rooms', 'reviews_per_month'],\n",
       "      dtype='object')"
      ]
     },
     "execution_count": 4,
     "metadata": {},
     "output_type": "execute_result"
    }
   ],
   "source": [
    "chicago.columns"
   ]
  },
  {
   "cell_type": "code",
   "execution_count": 5,
   "metadata": {},
   "outputs": [],
   "source": [
    "chicago=chicago.drop([# A future Airbnb member would not have currently the following information\n",
    "                      'id', 'host_id', 'listing_url', 'scrape_id', 'last_scraped', 'picture_url', 'host_url',\n",
    "                      'host_response_time', 'host_response_rate', 'host_acceptance_rate', 'host_thumbnail_url',\n",
    "                      'host_picture_url', 'calendar_last_scraped', 'number_of_reviews', 'number_of_reviews_ltm',\n",
    "                      'host_listings_count', 'host_total_listings_count', 'host_total_listings_count',\n",
    "                      'number_of_reviews_l30d', 'first_review', 'last_review', 'review_scores_rating', \n",
    "                      'review_scores_accuracy', 'review_scores_cleanliness', 'review_scores_checkin',\n",
    "                      'review_scores_communication', 'review_scores_location', 'review_scores_value',\n",
    "                      'calculated_host_listings_count', 'calculated_host_listings_count_entire_homes',\n",
    "                      'calculated_host_listings_count_private_rooms', 'license', 'reviews_per_month',\n",
    "                      'calculated_host_listings_count_shared_rooms',\n",
    "    \n",
    "                      # We will also delete the following:\n",
    "                      # Description and names\n",
    "                      'name', 'description', 'neighborhood_overview', 'host_name', 'host_about', 'bathrooms_text',\n",
    "                      # Columns with lists as values\n",
    "                      'amenities', 'host_verifications',\n",
    "                      # Columns with date values\n",
    "                      'host_since', 'calendar_updated',\n",
    "                      # Columns with no entries\n",
    "                      'neighbourhood_group_cleansed', 'bathrooms', 'bathrooms_text', \n",
    "                     ], axis = 1)"
   ]
  },
  {
   "cell_type": "code",
   "execution_count": 6,
   "metadata": {},
   "outputs": [
    {
     "data": {
      "text/plain": [
       "0    70.0\n",
       "1    95.0\n",
       "2    60.0\n",
       "3    65.0\n",
       "4    20.0\n",
       "Name: price, dtype: float64"
      ]
     },
     "execution_count": 6,
     "metadata": {},
     "output_type": "execute_result"
    }
   ],
   "source": [
    "# let's convert the price from string to float\n",
    "chicago['price'] = chicago['price'].str.replace(',', '')\n",
    "chicago['price'] = chicago['price'].str.replace('$', '')\n",
    "chicago['price'] = chicago['price'].astype(float)\n",
    "chicago['price'].head()"
   ]
  },
  {
   "cell_type": "markdown",
   "metadata": {},
   "source": [
    "# Analyze categorical columns"
   ]
  },
  {
   "cell_type": "markdown",
   "metadata": {},
   "source": [
    "Let's check again what is left into our database."
   ]
  },
  {
   "cell_type": "code",
   "execution_count": 7,
   "metadata": {},
   "outputs": [
    {
     "name": "stdout",
     "output_type": "stream",
     "text": [
      "<class 'pandas.core.frame.DataFrame'>\n",
      "RangeIndex: 6523 entries, 0 to 6522\n",
      "Data columns (total 29 columns):\n",
      " #   Column                  Non-Null Count  Dtype  \n",
      "---  ------                  --------------  -----  \n",
      " 0   host_location           6514 non-null   object \n",
      " 1   host_is_superhost       6523 non-null   object \n",
      " 2   host_neighbourhood      5899 non-null   object \n",
      " 3   host_has_profile_pic    6523 non-null   object \n",
      " 4   host_identity_verified  6523 non-null   object \n",
      " 5   neighbourhood           4769 non-null   object \n",
      " 6   neighbourhood_cleansed  6523 non-null   object \n",
      " 7   latitude                6523 non-null   float64\n",
      " 8   longitude               6523 non-null   float64\n",
      " 9   property_type           6523 non-null   object \n",
      " 10  room_type               6523 non-null   object \n",
      " 11  accommodates            6523 non-null   int64  \n",
      " 12  bedrooms                6009 non-null   float64\n",
      " 13  beds                    6472 non-null   float64\n",
      " 14  price                   6523 non-null   float64\n",
      " 15  minimum_nights          6523 non-null   int64  \n",
      " 16  maximum_nights          6523 non-null   int64  \n",
      " 17  minimum_minimum_nights  6523 non-null   int64  \n",
      " 18  maximum_minimum_nights  6523 non-null   int64  \n",
      " 19  minimum_maximum_nights  6523 non-null   int64  \n",
      " 20  maximum_maximum_nights  6523 non-null   int64  \n",
      " 21  minimum_nights_avg_ntm  6523 non-null   float64\n",
      " 22  maximum_nights_avg_ntm  6523 non-null   float64\n",
      " 23  has_availability        6523 non-null   object \n",
      " 24  availability_30         6523 non-null   int64  \n",
      " 25  availability_60         6523 non-null   int64  \n",
      " 26  availability_90         6523 non-null   int64  \n",
      " 27  availability_365        6523 non-null   int64  \n",
      " 28  instant_bookable        6523 non-null   object \n",
      "dtypes: float64(7), int64(11), object(11)\n",
      "memory usage: 1.4+ MB\n"
     ]
    }
   ],
   "source": [
    "chicago.info() #The dataset that we will be using consists of  6523 rows and 29 columns.\n",
    "#There are some missing values in the following columns(host_location, host_neighbourhood, neighbourhood, bedrooms,beds)"
   ]
  },
  {
   "cell_type": "code",
   "execution_count": 8,
   "metadata": {},
   "outputs": [
    {
     "data": {
      "text/html": [
       "<div>\n",
       "<style scoped>\n",
       "    .dataframe tbody tr th:only-of-type {\n",
       "        vertical-align: middle;\n",
       "    }\n",
       "\n",
       "    .dataframe tbody tr th {\n",
       "        vertical-align: top;\n",
       "    }\n",
       "\n",
       "    .dataframe thead th {\n",
       "        text-align: right;\n",
       "    }\n",
       "</style>\n",
       "<table border=\"1\" class=\"dataframe\">\n",
       "  <thead>\n",
       "    <tr style=\"text-align: right;\">\n",
       "      <th></th>\n",
       "      <th>host_location</th>\n",
       "      <th>host_is_superhost</th>\n",
       "      <th>host_neighbourhood</th>\n",
       "      <th>host_has_profile_pic</th>\n",
       "      <th>host_identity_verified</th>\n",
       "      <th>neighbourhood</th>\n",
       "      <th>neighbourhood_cleansed</th>\n",
       "      <th>latitude</th>\n",
       "      <th>longitude</th>\n",
       "      <th>property_type</th>\n",
       "      <th>...</th>\n",
       "      <th>minimum_maximum_nights</th>\n",
       "      <th>maximum_maximum_nights</th>\n",
       "      <th>minimum_nights_avg_ntm</th>\n",
       "      <th>maximum_nights_avg_ntm</th>\n",
       "      <th>has_availability</th>\n",
       "      <th>availability_30</th>\n",
       "      <th>availability_60</th>\n",
       "      <th>availability_90</th>\n",
       "      <th>availability_365</th>\n",
       "      <th>instant_bookable</th>\n",
       "    </tr>\n",
       "  </thead>\n",
       "  <tbody>\n",
       "    <tr>\n",
       "      <th>count</th>\n",
       "      <td>6514</td>\n",
       "      <td>6523</td>\n",
       "      <td>5899</td>\n",
       "      <td>6523</td>\n",
       "      <td>6523</td>\n",
       "      <td>4769</td>\n",
       "      <td>6523</td>\n",
       "      <td>6523.000000</td>\n",
       "      <td>6523.000000</td>\n",
       "      <td>6523</td>\n",
       "      <td>...</td>\n",
       "      <td>6523.000000</td>\n",
       "      <td>6.523000e+03</td>\n",
       "      <td>6523.000000</td>\n",
       "      <td>6.523000e+03</td>\n",
       "      <td>6523</td>\n",
       "      <td>6523.000000</td>\n",
       "      <td>6523.000000</td>\n",
       "      <td>6523.000000</td>\n",
       "      <td>6523.000000</td>\n",
       "      <td>6523</td>\n",
       "    </tr>\n",
       "    <tr>\n",
       "      <th>unique</th>\n",
       "      <td>253</td>\n",
       "      <td>2</td>\n",
       "      <td>162</td>\n",
       "      <td>2</td>\n",
       "      <td>2</td>\n",
       "      <td>14</td>\n",
       "      <td>77</td>\n",
       "      <td>NaN</td>\n",
       "      <td>NaN</td>\n",
       "      <td>47</td>\n",
       "      <td>...</td>\n",
       "      <td>NaN</td>\n",
       "      <td>NaN</td>\n",
       "      <td>NaN</td>\n",
       "      <td>NaN</td>\n",
       "      <td>2</td>\n",
       "      <td>NaN</td>\n",
       "      <td>NaN</td>\n",
       "      <td>NaN</td>\n",
       "      <td>NaN</td>\n",
       "      <td>2</td>\n",
       "    </tr>\n",
       "    <tr>\n",
       "      <th>top</th>\n",
       "      <td>Chicago, Illinois, United States</td>\n",
       "      <td>f</td>\n",
       "      <td>Lakeview</td>\n",
       "      <td>t</td>\n",
       "      <td>t</td>\n",
       "      <td>Chicago, Illinois, United States</td>\n",
       "      <td>Near North Side</td>\n",
       "      <td>NaN</td>\n",
       "      <td>NaN</td>\n",
       "      <td>Entire apartment</td>\n",
       "      <td>...</td>\n",
       "      <td>NaN</td>\n",
       "      <td>NaN</td>\n",
       "      <td>NaN</td>\n",
       "      <td>NaN</td>\n",
       "      <td>t</td>\n",
       "      <td>NaN</td>\n",
       "      <td>NaN</td>\n",
       "      <td>NaN</td>\n",
       "      <td>NaN</td>\n",
       "      <td>f</td>\n",
       "    </tr>\n",
       "    <tr>\n",
       "      <th>freq</th>\n",
       "      <td>4848</td>\n",
       "      <td>3969</td>\n",
       "      <td>351</td>\n",
       "      <td>6513</td>\n",
       "      <td>5245</td>\n",
       "      <td>4742</td>\n",
       "      <td>748</td>\n",
       "      <td>NaN</td>\n",
       "      <td>NaN</td>\n",
       "      <td>2860</td>\n",
       "      <td>...</td>\n",
       "      <td>NaN</td>\n",
       "      <td>NaN</td>\n",
       "      <td>NaN</td>\n",
       "      <td>NaN</td>\n",
       "      <td>6484</td>\n",
       "      <td>NaN</td>\n",
       "      <td>NaN</td>\n",
       "      <td>NaN</td>\n",
       "      <td>NaN</td>\n",
       "      <td>3953</td>\n",
       "    </tr>\n",
       "    <tr>\n",
       "      <th>mean</th>\n",
       "      <td>NaN</td>\n",
       "      <td>NaN</td>\n",
       "      <td>NaN</td>\n",
       "      <td>NaN</td>\n",
       "      <td>NaN</td>\n",
       "      <td>NaN</td>\n",
       "      <td>NaN</td>\n",
       "      <td>41.898720</td>\n",
       "      <td>-87.663398</td>\n",
       "      <td>NaN</td>\n",
       "      <td>...</td>\n",
       "      <td>864.382799</td>\n",
       "      <td>3.951479e+06</td>\n",
       "      <td>31.237375</td>\n",
       "      <td>3.010749e+06</td>\n",
       "      <td>NaN</td>\n",
       "      <td>13.242833</td>\n",
       "      <td>30.304921</td>\n",
       "      <td>48.268588</td>\n",
       "      <td>160.587460</td>\n",
       "      <td>NaN</td>\n",
       "    </tr>\n",
       "    <tr>\n",
       "      <th>std</th>\n",
       "      <td>NaN</td>\n",
       "      <td>NaN</td>\n",
       "      <td>NaN</td>\n",
       "      <td>NaN</td>\n",
       "      <td>NaN</td>\n",
       "      <td>NaN</td>\n",
       "      <td>NaN</td>\n",
       "      <td>0.059047</td>\n",
       "      <td>0.042387</td>\n",
       "      <td>NaN</td>\n",
       "      <td>...</td>\n",
       "      <td>448.299089</td>\n",
       "      <td>9.203014e+07</td>\n",
       "      <td>127.115466</td>\n",
       "      <td>7.468386e+07</td>\n",
       "      <td>NaN</td>\n",
       "      <td>12.557707</td>\n",
       "      <td>25.683728</td>\n",
       "      <td>38.574773</td>\n",
       "      <td>144.319438</td>\n",
       "      <td>NaN</td>\n",
       "    </tr>\n",
       "    <tr>\n",
       "      <th>min</th>\n",
       "      <td>NaN</td>\n",
       "      <td>NaN</td>\n",
       "      <td>NaN</td>\n",
       "      <td>NaN</td>\n",
       "      <td>NaN</td>\n",
       "      <td>NaN</td>\n",
       "      <td>NaN</td>\n",
       "      <td>41.651560</td>\n",
       "      <td>-87.934340</td>\n",
       "      <td>NaN</td>\n",
       "      <td>...</td>\n",
       "      <td>1.000000</td>\n",
       "      <td>1.000000e+00</td>\n",
       "      <td>1.000000</td>\n",
       "      <td>1.000000e+00</td>\n",
       "      <td>NaN</td>\n",
       "      <td>0.000000</td>\n",
       "      <td>0.000000</td>\n",
       "      <td>0.000000</td>\n",
       "      <td>0.000000</td>\n",
       "      <td>NaN</td>\n",
       "    </tr>\n",
       "    <tr>\n",
       "      <th>25%</th>\n",
       "      <td>NaN</td>\n",
       "      <td>NaN</td>\n",
       "      <td>NaN</td>\n",
       "      <td>NaN</td>\n",
       "      <td>NaN</td>\n",
       "      <td>NaN</td>\n",
       "      <td>NaN</td>\n",
       "      <td>41.873480</td>\n",
       "      <td>-87.686660</td>\n",
       "      <td>NaN</td>\n",
       "      <td>...</td>\n",
       "      <td>365.000000</td>\n",
       "      <td>9.990000e+02</td>\n",
       "      <td>2.000000</td>\n",
       "      <td>9.974000e+02</td>\n",
       "      <td>NaN</td>\n",
       "      <td>0.000000</td>\n",
       "      <td>0.000000</td>\n",
       "      <td>0.000000</td>\n",
       "      <td>0.000000</td>\n",
       "      <td>NaN</td>\n",
       "    </tr>\n",
       "    <tr>\n",
       "      <th>50%</th>\n",
       "      <td>NaN</td>\n",
       "      <td>NaN</td>\n",
       "      <td>NaN</td>\n",
       "      <td>NaN</td>\n",
       "      <td>NaN</td>\n",
       "      <td>NaN</td>\n",
       "      <td>NaN</td>\n",
       "      <td>41.901430</td>\n",
       "      <td>-87.659590</td>\n",
       "      <td>NaN</td>\n",
       "      <td>...</td>\n",
       "      <td>1125.000000</td>\n",
       "      <td>1.125000e+03</td>\n",
       "      <td>2.000000</td>\n",
       "      <td>1.125000e+03</td>\n",
       "      <td>NaN</td>\n",
       "      <td>14.000000</td>\n",
       "      <td>39.000000</td>\n",
       "      <td>64.000000</td>\n",
       "      <td>123.000000</td>\n",
       "      <td>NaN</td>\n",
       "    </tr>\n",
       "    <tr>\n",
       "      <th>75%</th>\n",
       "      <td>NaN</td>\n",
       "      <td>NaN</td>\n",
       "      <td>NaN</td>\n",
       "      <td>NaN</td>\n",
       "      <td>NaN</td>\n",
       "      <td>NaN</td>\n",
       "      <td>NaN</td>\n",
       "      <td>41.939765</td>\n",
       "      <td>-87.632985</td>\n",
       "      <td>NaN</td>\n",
       "      <td>...</td>\n",
       "      <td>1125.000000</td>\n",
       "      <td>1.125000e+03</td>\n",
       "      <td>4.000000</td>\n",
       "      <td>1.125000e+03</td>\n",
       "      <td>NaN</td>\n",
       "      <td>27.000000</td>\n",
       "      <td>57.000000</td>\n",
       "      <td>87.000000</td>\n",
       "      <td>333.000000</td>\n",
       "      <td>NaN</td>\n",
       "    </tr>\n",
       "    <tr>\n",
       "      <th>max</th>\n",
       "      <td>NaN</td>\n",
       "      <td>NaN</td>\n",
       "      <td>NaN</td>\n",
       "      <td>NaN</td>\n",
       "      <td>NaN</td>\n",
       "      <td>NaN</td>\n",
       "      <td>NaN</td>\n",
       "      <td>42.022590</td>\n",
       "      <td>-87.537820</td>\n",
       "      <td>NaN</td>\n",
       "      <td>...</td>\n",
       "      <td>1125.000000</td>\n",
       "      <td>2.147484e+09</td>\n",
       "      <td>730.000000</td>\n",
       "      <td>1.982293e+09</td>\n",
       "      <td>NaN</td>\n",
       "      <td>30.000000</td>\n",
       "      <td>60.000000</td>\n",
       "      <td>90.000000</td>\n",
       "      <td>365.000000</td>\n",
       "      <td>NaN</td>\n",
       "    </tr>\n",
       "  </tbody>\n",
       "</table>\n",
       "<p>11 rows × 29 columns</p>\n",
       "</div>"
      ],
      "text/plain": [
       "                           host_location host_is_superhost host_neighbourhood  \\\n",
       "count                               6514              6523               5899   \n",
       "unique                               253                 2                162   \n",
       "top     Chicago, Illinois, United States                 f           Lakeview   \n",
       "freq                                4848              3969                351   \n",
       "mean                                 NaN               NaN                NaN   \n",
       "std                                  NaN               NaN                NaN   \n",
       "min                                  NaN               NaN                NaN   \n",
       "25%                                  NaN               NaN                NaN   \n",
       "50%                                  NaN               NaN                NaN   \n",
       "75%                                  NaN               NaN                NaN   \n",
       "max                                  NaN               NaN                NaN   \n",
       "\n",
       "       host_has_profile_pic host_identity_verified  \\\n",
       "count                  6523                   6523   \n",
       "unique                    2                      2   \n",
       "top                       t                      t   \n",
       "freq                   6513                   5245   \n",
       "mean                    NaN                    NaN   \n",
       "std                     NaN                    NaN   \n",
       "min                     NaN                    NaN   \n",
       "25%                     NaN                    NaN   \n",
       "50%                     NaN                    NaN   \n",
       "75%                     NaN                    NaN   \n",
       "max                     NaN                    NaN   \n",
       "\n",
       "                           neighbourhood neighbourhood_cleansed     latitude  \\\n",
       "count                               4769                   6523  6523.000000   \n",
       "unique                                14                     77          NaN   \n",
       "top     Chicago, Illinois, United States        Near North Side          NaN   \n",
       "freq                                4742                    748          NaN   \n",
       "mean                                 NaN                    NaN    41.898720   \n",
       "std                                  NaN                    NaN     0.059047   \n",
       "min                                  NaN                    NaN    41.651560   \n",
       "25%                                  NaN                    NaN    41.873480   \n",
       "50%                                  NaN                    NaN    41.901430   \n",
       "75%                                  NaN                    NaN    41.939765   \n",
       "max                                  NaN                    NaN    42.022590   \n",
       "\n",
       "          longitude     property_type  ... minimum_maximum_nights  \\\n",
       "count   6523.000000              6523  ...            6523.000000   \n",
       "unique          NaN                47  ...                    NaN   \n",
       "top             NaN  Entire apartment  ...                    NaN   \n",
       "freq            NaN              2860  ...                    NaN   \n",
       "mean     -87.663398               NaN  ...             864.382799   \n",
       "std        0.042387               NaN  ...             448.299089   \n",
       "min      -87.934340               NaN  ...               1.000000   \n",
       "25%      -87.686660               NaN  ...             365.000000   \n",
       "50%      -87.659590               NaN  ...            1125.000000   \n",
       "75%      -87.632985               NaN  ...            1125.000000   \n",
       "max      -87.537820               NaN  ...            1125.000000   \n",
       "\n",
       "        maximum_maximum_nights  minimum_nights_avg_ntm  \\\n",
       "count             6.523000e+03             6523.000000   \n",
       "unique                     NaN                     NaN   \n",
       "top                        NaN                     NaN   \n",
       "freq                       NaN                     NaN   \n",
       "mean              3.951479e+06               31.237375   \n",
       "std               9.203014e+07              127.115466   \n",
       "min               1.000000e+00                1.000000   \n",
       "25%               9.990000e+02                2.000000   \n",
       "50%               1.125000e+03                2.000000   \n",
       "75%               1.125000e+03                4.000000   \n",
       "max               2.147484e+09              730.000000   \n",
       "\n",
       "        maximum_nights_avg_ntm  has_availability  availability_30  \\\n",
       "count             6.523000e+03              6523      6523.000000   \n",
       "unique                     NaN                 2              NaN   \n",
       "top                        NaN                 t              NaN   \n",
       "freq                       NaN              6484              NaN   \n",
       "mean              3.010749e+06               NaN        13.242833   \n",
       "std               7.468386e+07               NaN        12.557707   \n",
       "min               1.000000e+00               NaN         0.000000   \n",
       "25%               9.974000e+02               NaN         0.000000   \n",
       "50%               1.125000e+03               NaN        14.000000   \n",
       "75%               1.125000e+03               NaN        27.000000   \n",
       "max               1.982293e+09               NaN        30.000000   \n",
       "\n",
       "        availability_60  availability_90  availability_365  instant_bookable  \n",
       "count       6523.000000      6523.000000       6523.000000              6523  \n",
       "unique              NaN              NaN               NaN                 2  \n",
       "top                 NaN              NaN               NaN                 f  \n",
       "freq                NaN              NaN               NaN              3953  \n",
       "mean          30.304921        48.268588        160.587460               NaN  \n",
       "std           25.683728        38.574773        144.319438               NaN  \n",
       "min            0.000000         0.000000          0.000000               NaN  \n",
       "25%            0.000000         0.000000          0.000000               NaN  \n",
       "50%           39.000000        64.000000        123.000000               NaN  \n",
       "75%           57.000000        87.000000        333.000000               NaN  \n",
       "max           60.000000        90.000000        365.000000               NaN  \n",
       "\n",
       "[11 rows x 29 columns]"
      ]
     },
     "execution_count": 8,
     "metadata": {},
     "output_type": "execute_result"
    }
   ],
   "source": [
    "chicago.describe(include='all') #Statistics summary columns. Shows that we have somemissing values. "
   ]
  },
  {
   "cell_type": "markdown",
   "metadata": {},
   "source": [
    "As it seems in the host_location columns, there is 253 different locations. However, we are only \n",
    "interested on listings that are located in Chicago, Illinois, United States. Because \n",
    "it represents 4848 entries out of 6523."
   ]
  },
  {
   "cell_type": "code",
   "execution_count": 9,
   "metadata": {},
   "outputs": [
    {
     "data": {
      "text/html": [
       "<div>\n",
       "<style scoped>\n",
       "    .dataframe tbody tr th:only-of-type {\n",
       "        vertical-align: middle;\n",
       "    }\n",
       "\n",
       "    .dataframe tbody tr th {\n",
       "        vertical-align: top;\n",
       "    }\n",
       "\n",
       "    .dataframe thead th {\n",
       "        text-align: right;\n",
       "    }\n",
       "</style>\n",
       "<table border=\"1\" class=\"dataframe\">\n",
       "  <thead>\n",
       "    <tr style=\"text-align: right;\">\n",
       "      <th></th>\n",
       "      <th>host_is_superhost</th>\n",
       "      <th>host_has_profile_pic</th>\n",
       "      <th>host_identity_verified</th>\n",
       "      <th>neighbourhood_cleansed</th>\n",
       "      <th>latitude</th>\n",
       "      <th>longitude</th>\n",
       "      <th>property_type</th>\n",
       "      <th>room_type</th>\n",
       "      <th>accommodates</th>\n",
       "      <th>bedrooms</th>\n",
       "      <th>...</th>\n",
       "      <th>minimum_maximum_nights</th>\n",
       "      <th>maximum_maximum_nights</th>\n",
       "      <th>minimum_nights_avg_ntm</th>\n",
       "      <th>maximum_nights_avg_ntm</th>\n",
       "      <th>has_availability</th>\n",
       "      <th>availability_30</th>\n",
       "      <th>availability_60</th>\n",
       "      <th>availability_90</th>\n",
       "      <th>availability_365</th>\n",
       "      <th>instant_bookable</th>\n",
       "    </tr>\n",
       "  </thead>\n",
       "  <tbody>\n",
       "    <tr>\n",
       "      <th>0</th>\n",
       "      <td>t</td>\n",
       "      <td>t</td>\n",
       "      <td>t</td>\n",
       "      <td>Hyde Park</td>\n",
       "      <td>41.78790</td>\n",
       "      <td>-87.58780</td>\n",
       "      <td>Private room in condominium</td>\n",
       "      <td>Private room</td>\n",
       "      <td>1</td>\n",
       "      <td>1.0</td>\n",
       "      <td>...</td>\n",
       "      <td>29</td>\n",
       "      <td>29</td>\n",
       "      <td>2.0</td>\n",
       "      <td>29.0</td>\n",
       "      <td>t</td>\n",
       "      <td>0</td>\n",
       "      <td>0</td>\n",
       "      <td>0</td>\n",
       "      <td>0</td>\n",
       "      <td>f</td>\n",
       "    </tr>\n",
       "    <tr>\n",
       "      <th>1</th>\n",
       "      <td>t</td>\n",
       "      <td>t</td>\n",
       "      <td>t</td>\n",
       "      <td>South Lawndale</td>\n",
       "      <td>41.85495</td>\n",
       "      <td>-87.69696</td>\n",
       "      <td>Entire apartment</td>\n",
       "      <td>Entire home/apt</td>\n",
       "      <td>7</td>\n",
       "      <td>3.0</td>\n",
       "      <td>...</td>\n",
       "      <td>60</td>\n",
       "      <td>60</td>\n",
       "      <td>2.0</td>\n",
       "      <td>60.0</td>\n",
       "      <td>t</td>\n",
       "      <td>0</td>\n",
       "      <td>0</td>\n",
       "      <td>0</td>\n",
       "      <td>170</td>\n",
       "      <td>t</td>\n",
       "    </tr>\n",
       "    <tr>\n",
       "      <th>2</th>\n",
       "      <td>t</td>\n",
       "      <td>t</td>\n",
       "      <td>t</td>\n",
       "      <td>West Town</td>\n",
       "      <td>41.90289</td>\n",
       "      <td>-87.68182</td>\n",
       "      <td>Entire apartment</td>\n",
       "      <td>Entire home/apt</td>\n",
       "      <td>2</td>\n",
       "      <td>3.0</td>\n",
       "      <td>...</td>\n",
       "      <td>1125</td>\n",
       "      <td>1125</td>\n",
       "      <td>2.0</td>\n",
       "      <td>1125.0</td>\n",
       "      <td>t</td>\n",
       "      <td>0</td>\n",
       "      <td>0</td>\n",
       "      <td>0</td>\n",
       "      <td>0</td>\n",
       "      <td>f</td>\n",
       "    </tr>\n",
       "    <tr>\n",
       "      <th>3</th>\n",
       "      <td>t</td>\n",
       "      <td>t</td>\n",
       "      <td>t</td>\n",
       "      <td>Lincoln Park</td>\n",
       "      <td>41.91769</td>\n",
       "      <td>-87.63788</td>\n",
       "      <td>Entire apartment</td>\n",
       "      <td>Entire home/apt</td>\n",
       "      <td>4</td>\n",
       "      <td>1.0</td>\n",
       "      <td>...</td>\n",
       "      <td>180</td>\n",
       "      <td>180</td>\n",
       "      <td>4.0</td>\n",
       "      <td>180.0</td>\n",
       "      <td>t</td>\n",
       "      <td>7</td>\n",
       "      <td>33</td>\n",
       "      <td>33</td>\n",
       "      <td>276</td>\n",
       "      <td>f</td>\n",
       "    </tr>\n",
       "    <tr>\n",
       "      <th>5</th>\n",
       "      <td>t</td>\n",
       "      <td>t</td>\n",
       "      <td>t</td>\n",
       "      <td>Lincoln Park</td>\n",
       "      <td>41.91183</td>\n",
       "      <td>-87.64000</td>\n",
       "      <td>Entire apartment</td>\n",
       "      <td>Entire home/apt</td>\n",
       "      <td>4</td>\n",
       "      <td>2.0</td>\n",
       "      <td>...</td>\n",
       "      <td>180</td>\n",
       "      <td>180</td>\n",
       "      <td>4.0</td>\n",
       "      <td>180.0</td>\n",
       "      <td>t</td>\n",
       "      <td>0</td>\n",
       "      <td>0</td>\n",
       "      <td>26</td>\n",
       "      <td>83</td>\n",
       "      <td>t</td>\n",
       "    </tr>\n",
       "  </tbody>\n",
       "</table>\n",
       "<p>5 rows × 26 columns</p>\n",
       "</div>"
      ],
      "text/plain": [
       "  host_is_superhost host_has_profile_pic host_identity_verified  \\\n",
       "0                 t                    t                      t   \n",
       "1                 t                    t                      t   \n",
       "2                 t                    t                      t   \n",
       "3                 t                    t                      t   \n",
       "5                 t                    t                      t   \n",
       "\n",
       "  neighbourhood_cleansed  latitude  longitude                property_type  \\\n",
       "0              Hyde Park  41.78790  -87.58780  Private room in condominium   \n",
       "1         South Lawndale  41.85495  -87.69696             Entire apartment   \n",
       "2              West Town  41.90289  -87.68182             Entire apartment   \n",
       "3           Lincoln Park  41.91769  -87.63788             Entire apartment   \n",
       "5           Lincoln Park  41.91183  -87.64000             Entire apartment   \n",
       "\n",
       "         room_type  accommodates  bedrooms  ...  minimum_maximum_nights  \\\n",
       "0     Private room             1       1.0  ...                      29   \n",
       "1  Entire home/apt             7       3.0  ...                      60   \n",
       "2  Entire home/apt             2       3.0  ...                    1125   \n",
       "3  Entire home/apt             4       1.0  ...                     180   \n",
       "5  Entire home/apt             4       2.0  ...                     180   \n",
       "\n",
       "   maximum_maximum_nights  minimum_nights_avg_ntm  maximum_nights_avg_ntm  \\\n",
       "0                      29                     2.0                    29.0   \n",
       "1                      60                     2.0                    60.0   \n",
       "2                    1125                     2.0                  1125.0   \n",
       "3                     180                     4.0                   180.0   \n",
       "5                     180                     4.0                   180.0   \n",
       "\n",
       "   has_availability  availability_30  availability_60  availability_90  \\\n",
       "0                 t                0                0                0   \n",
       "1                 t                0                0                0   \n",
       "2                 t                0                0                0   \n",
       "3                 t                7               33               33   \n",
       "5                 t                0                0               26   \n",
       "\n",
       "   availability_365  instant_bookable  \n",
       "0                 0                 f  \n",
       "1               170                 t  \n",
       "2                 0                 f  \n",
       "3               276                 f  \n",
       "5                83                 t  \n",
       "\n",
       "[5 rows x 26 columns]"
      ]
     },
     "execution_count": 9,
     "metadata": {},
     "output_type": "execute_result"
    }
   ],
   "source": [
    "chicago = chicago.loc[chicago['host_location'] == 'Chicago, Illinois, United States']\n",
    "# delete its column as now all its values are the same\n",
    "chicago=chicago.drop(['host_location', 'neighbourhood', 'host_neighbourhood'], axis = 1)\n",
    "chicago.head()"
   ]
  },
  {
   "cell_type": "markdown",
   "metadata": {},
   "source": [
    "# Dealing with missing values and duplicates"
   ]
  },
  {
   "cell_type": "code",
   "execution_count": 10,
   "metadata": {},
   "outputs": [
    {
     "data": {
      "text/plain": [
       "host_is_superhost           0\n",
       "host_has_profile_pic        0\n",
       "host_identity_verified      0\n",
       "neighbourhood_cleansed      0\n",
       "latitude                    0\n",
       "longitude                   0\n",
       "property_type               0\n",
       "room_type                   0\n",
       "accommodates                0\n",
       "bedrooms                  338\n",
       "beds                       34\n",
       "price                       0\n",
       "minimum_nights              0\n",
       "maximum_nights              0\n",
       "minimum_minimum_nights      0\n",
       "maximum_minimum_nights      0\n",
       "minimum_maximum_nights      0\n",
       "maximum_maximum_nights      0\n",
       "minimum_nights_avg_ntm      0\n",
       "maximum_nights_avg_ntm      0\n",
       "has_availability            0\n",
       "availability_30             0\n",
       "availability_60             0\n",
       "availability_90             0\n",
       "availability_365            0\n",
       "instant_bookable            0\n",
       "dtype: int64"
      ]
     },
     "execution_count": 10,
     "metadata": {},
     "output_type": "execute_result"
    }
   ],
   "source": [
    "chicago.isnull().sum()  #We have 338 missing values in bedrooms and 34 in beds column.  "
   ]
  },
  {
   "cell_type": "code",
   "execution_count": 11,
   "metadata": {},
   "outputs": [],
   "source": [
    "# Now let's remove missing values\n",
    "chicago.dropna(inplace=True)"
   ]
  },
  {
   "cell_type": "code",
   "execution_count": 12,
   "metadata": {},
   "outputs": [
    {
     "data": {
      "text/plain": [
       "host_is_superhost         0\n",
       "host_has_profile_pic      0\n",
       "host_identity_verified    0\n",
       "neighbourhood_cleansed    0\n",
       "latitude                  0\n",
       "longitude                 0\n",
       "property_type             0\n",
       "room_type                 0\n",
       "accommodates              0\n",
       "bedrooms                  0\n",
       "beds                      0\n",
       "price                     0\n",
       "minimum_nights            0\n",
       "maximum_nights            0\n",
       "minimum_minimum_nights    0\n",
       "maximum_minimum_nights    0\n",
       "minimum_maximum_nights    0\n",
       "maximum_maximum_nights    0\n",
       "minimum_nights_avg_ntm    0\n",
       "maximum_nights_avg_ntm    0\n",
       "has_availability          0\n",
       "availability_30           0\n",
       "availability_60           0\n",
       "availability_90           0\n",
       "availability_365          0\n",
       "instant_bookable          0\n",
       "dtype: int64"
      ]
     },
     "execution_count": 12,
     "metadata": {},
     "output_type": "execute_result"
    }
   ],
   "source": [
    "#Let's fill missing values with the mean of columns\n",
    "#chicago['bedrooms'] = chicago['bedrooms'].fillna(chicago['bedrooms'].mode()[0])\n",
    "#chicago['beds'] = chicago['beds'].fillna(chicago['beds'].mode()[0])\n",
    "chicago.isnull().sum() "
   ]
  },
  {
   "cell_type": "code",
   "execution_count": 13,
   "metadata": {},
   "outputs": [
    {
     "data": {
      "text/plain": [
       "(4481, 26)"
      ]
     },
     "execution_count": 13,
     "metadata": {},
     "output_type": "execute_result"
    }
   ],
   "source": [
    "chicago.shape #The data will use consists of 4481 rows and 26 columns."
   ]
  },
  {
   "cell_type": "code",
   "execution_count": 14,
   "metadata": {},
   "outputs": [
    {
     "data": {
      "text/plain": [
       "4"
      ]
     },
     "execution_count": 14,
     "metadata": {},
     "output_type": "execute_result"
    }
   ],
   "source": [
    "chicago.duplicated().sum() #We have 0 doplicated rows"
   ]
  },
  {
   "cell_type": "code",
   "execution_count": 15,
   "metadata": {},
   "outputs": [
    {
     "data": {
      "text/html": [
       "<div>\n",
       "<style scoped>\n",
       "    .dataframe tbody tr th:only-of-type {\n",
       "        vertical-align: middle;\n",
       "    }\n",
       "\n",
       "    .dataframe tbody tr th {\n",
       "        vertical-align: top;\n",
       "    }\n",
       "\n",
       "    .dataframe thead th {\n",
       "        text-align: right;\n",
       "    }\n",
       "</style>\n",
       "<table border=\"1\" class=\"dataframe\">\n",
       "  <thead>\n",
       "    <tr style=\"text-align: right;\">\n",
       "      <th></th>\n",
       "      <th>host_is_superhost</th>\n",
       "      <th>host_has_profile_pic</th>\n",
       "      <th>host_identity_verified</th>\n",
       "      <th>neighbourhood_cleansed</th>\n",
       "      <th>latitude</th>\n",
       "      <th>longitude</th>\n",
       "      <th>property_type</th>\n",
       "      <th>room_type</th>\n",
       "      <th>accommodates</th>\n",
       "      <th>bedrooms</th>\n",
       "      <th>...</th>\n",
       "      <th>minimum_maximum_nights</th>\n",
       "      <th>maximum_maximum_nights</th>\n",
       "      <th>minimum_nights_avg_ntm</th>\n",
       "      <th>maximum_nights_avg_ntm</th>\n",
       "      <th>has_availability</th>\n",
       "      <th>availability_30</th>\n",
       "      <th>availability_60</th>\n",
       "      <th>availability_90</th>\n",
       "      <th>availability_365</th>\n",
       "      <th>instant_bookable</th>\n",
       "    </tr>\n",
       "  </thead>\n",
       "  <tbody>\n",
       "    <tr>\n",
       "      <th>1084</th>\n",
       "      <td>f</td>\n",
       "      <td>t</td>\n",
       "      <td>t</td>\n",
       "      <td>Greater Grand Crossing</td>\n",
       "      <td>41.76769</td>\n",
       "      <td>-87.63009</td>\n",
       "      <td>Private room in townhouse</td>\n",
       "      <td>Private room</td>\n",
       "      <td>2</td>\n",
       "      <td>1.0</td>\n",
       "      <td>...</td>\n",
       "      <td>1125</td>\n",
       "      <td>1125</td>\n",
       "      <td>2.0</td>\n",
       "      <td>1125.0</td>\n",
       "      <td>t</td>\n",
       "      <td>29</td>\n",
       "      <td>59</td>\n",
       "      <td>89</td>\n",
       "      <td>89</td>\n",
       "      <td>t</td>\n",
       "    </tr>\n",
       "    <tr>\n",
       "      <th>1297</th>\n",
       "      <td>f</td>\n",
       "      <td>t</td>\n",
       "      <td>t</td>\n",
       "      <td>Near North Side</td>\n",
       "      <td>41.89235</td>\n",
       "      <td>-87.62732</td>\n",
       "      <td>Room in hostel</td>\n",
       "      <td>Hotel room</td>\n",
       "      <td>1</td>\n",
       "      <td>1.0</td>\n",
       "      <td>...</td>\n",
       "      <td>180</td>\n",
       "      <td>999</td>\n",
       "      <td>1.0</td>\n",
       "      <td>997.1</td>\n",
       "      <td>t</td>\n",
       "      <td>30</td>\n",
       "      <td>60</td>\n",
       "      <td>90</td>\n",
       "      <td>363</td>\n",
       "      <td>t</td>\n",
       "    </tr>\n",
       "    <tr>\n",
       "      <th>1372</th>\n",
       "      <td>t</td>\n",
       "      <td>t</td>\n",
       "      <td>f</td>\n",
       "      <td>Edgewater</td>\n",
       "      <td>41.99561</td>\n",
       "      <td>-87.66379</td>\n",
       "      <td>Private room in apartment</td>\n",
       "      <td>Private room</td>\n",
       "      <td>2</td>\n",
       "      <td>1.0</td>\n",
       "      <td>...</td>\n",
       "      <td>1125</td>\n",
       "      <td>1125</td>\n",
       "      <td>2.0</td>\n",
       "      <td>1125.0</td>\n",
       "      <td>t</td>\n",
       "      <td>17</td>\n",
       "      <td>47</td>\n",
       "      <td>77</td>\n",
       "      <td>352</td>\n",
       "      <td>t</td>\n",
       "    </tr>\n",
       "    <tr>\n",
       "      <th>3031</th>\n",
       "      <td>f</td>\n",
       "      <td>t</td>\n",
       "      <td>t</td>\n",
       "      <td>Near North Side</td>\n",
       "      <td>41.89230</td>\n",
       "      <td>-87.62734</td>\n",
       "      <td>Room in boutique hotel</td>\n",
       "      <td>Hotel room</td>\n",
       "      <td>2</td>\n",
       "      <td>1.0</td>\n",
       "      <td>...</td>\n",
       "      <td>999</td>\n",
       "      <td>1000</td>\n",
       "      <td>1.0</td>\n",
       "      <td>999.0</td>\n",
       "      <td>t</td>\n",
       "      <td>30</td>\n",
       "      <td>60</td>\n",
       "      <td>90</td>\n",
       "      <td>363</td>\n",
       "      <td>t</td>\n",
       "    </tr>\n",
       "  </tbody>\n",
       "</table>\n",
       "<p>4 rows × 26 columns</p>\n",
       "</div>"
      ],
      "text/plain": [
       "     host_is_superhost host_has_profile_pic host_identity_verified  \\\n",
       "1084                 f                    t                      t   \n",
       "1297                 f                    t                      t   \n",
       "1372                 t                    t                      f   \n",
       "3031                 f                    t                      t   \n",
       "\n",
       "      neighbourhood_cleansed  latitude  longitude              property_type  \\\n",
       "1084  Greater Grand Crossing  41.76769  -87.63009  Private room in townhouse   \n",
       "1297         Near North Side  41.89235  -87.62732             Room in hostel   \n",
       "1372               Edgewater  41.99561  -87.66379  Private room in apartment   \n",
       "3031         Near North Side  41.89230  -87.62734     Room in boutique hotel   \n",
       "\n",
       "         room_type  accommodates  bedrooms  ...  minimum_maximum_nights  \\\n",
       "1084  Private room             2       1.0  ...                    1125   \n",
       "1297    Hotel room             1       1.0  ...                     180   \n",
       "1372  Private room             2       1.0  ...                    1125   \n",
       "3031    Hotel room             2       1.0  ...                     999   \n",
       "\n",
       "      maximum_maximum_nights  minimum_nights_avg_ntm  maximum_nights_avg_ntm  \\\n",
       "1084                    1125                     2.0                  1125.0   \n",
       "1297                     999                     1.0                   997.1   \n",
       "1372                    1125                     2.0                  1125.0   \n",
       "3031                    1000                     1.0                   999.0   \n",
       "\n",
       "      has_availability  availability_30  availability_60  availability_90  \\\n",
       "1084                 t               29               59               89   \n",
       "1297                 t               30               60               90   \n",
       "1372                 t               17               47               77   \n",
       "3031                 t               30               60               90   \n",
       "\n",
       "      availability_365  instant_bookable  \n",
       "1084                89                 t  \n",
       "1297               363                 t  \n",
       "1372               352                 t  \n",
       "3031               363                 t  \n",
       "\n",
       "[4 rows x 26 columns]"
      ]
     },
     "execution_count": 15,
     "metadata": {},
     "output_type": "execute_result"
    }
   ],
   "source": [
    "#Let's see the duplicated rows\n",
    "dataduplicate = chicago[chicago.duplicated()] #These are all the duplicated rows, let's drop them \n",
    "dataduplicate"
   ]
  },
  {
   "cell_type": "code",
   "execution_count": 16,
   "metadata": {},
   "outputs": [],
   "source": [
    "#Let's drop them\n",
    "Chicago=chicago.drop_duplicates( )#let's drop all duplicates and chech data \n"
   ]
  },
  {
   "cell_type": "code",
   "execution_count": 17,
   "metadata": {},
   "outputs": [
    {
     "data": {
      "text/plain": [
       "0"
      ]
     },
     "execution_count": 17,
     "metadata": {},
     "output_type": "execute_result"
    }
   ],
   "source": [
    "Chicago.duplicated().sum() #We have 0 doplicated rows\n"
   ]
  },
  {
   "cell_type": "code",
   "execution_count": 18,
   "metadata": {},
   "outputs": [
    {
     "data": {
      "text/plain": [
       "(4477, 26)"
      ]
     },
     "execution_count": 18,
     "metadata": {},
     "output_type": "execute_result"
    }
   ],
   "source": [
    "#Let's see data shape \n",
    "Chicago.shape  #4477 rows and 26 columns"
   ]
  },
  {
   "cell_type": "markdown",
   "metadata": {},
   "source": [
    "# Prepare the data (labeling)"
   ]
  },
  {
   "cell_type": "code",
   "execution_count": 19,
   "metadata": {},
   "outputs": [
    {
     "name": "stdout",
     "output_type": "stream",
     "text": [
      "<class 'pandas.core.frame.DataFrame'>\n",
      "Int64Index: 4477 entries, 0 to 6522\n",
      "Data columns (total 26 columns):\n",
      " #   Column                  Non-Null Count  Dtype  \n",
      "---  ------                  --------------  -----  \n",
      " 0   host_is_superhost       4477 non-null   object \n",
      " 1   host_has_profile_pic    4477 non-null   object \n",
      " 2   host_identity_verified  4477 non-null   object \n",
      " 3   neighbourhood_cleansed  4477 non-null   object \n",
      " 4   latitude                4477 non-null   float64\n",
      " 5   longitude               4477 non-null   float64\n",
      " 6   property_type           4477 non-null   object \n",
      " 7   room_type               4477 non-null   object \n",
      " 8   accommodates            4477 non-null   int64  \n",
      " 9   bedrooms                4477 non-null   float64\n",
      " 10  beds                    4477 non-null   float64\n",
      " 11  price                   4477 non-null   float64\n",
      " 12  minimum_nights          4477 non-null   int64  \n",
      " 13  maximum_nights          4477 non-null   int64  \n",
      " 14  minimum_minimum_nights  4477 non-null   int64  \n",
      " 15  maximum_minimum_nights  4477 non-null   int64  \n",
      " 16  minimum_maximum_nights  4477 non-null   int64  \n",
      " 17  maximum_maximum_nights  4477 non-null   int64  \n",
      " 18  minimum_nights_avg_ntm  4477 non-null   float64\n",
      " 19  maximum_nights_avg_ntm  4477 non-null   float64\n",
      " 20  has_availability        4477 non-null   object \n",
      " 21  availability_30         4477 non-null   int64  \n",
      " 22  availability_60         4477 non-null   int64  \n",
      " 23  availability_90         4477 non-null   int64  \n",
      " 24  availability_365        4477 non-null   int64  \n",
      " 25  instant_bookable        4477 non-null   object \n",
      "dtypes: float64(7), int64(11), object(8)\n",
      "memory usage: 944.4+ KB\n"
     ]
    }
   ],
   "source": [
    "Chicago.info() #The dataset consists of 26 columns (integers, object and floats), 4477 rows and no missing values."
   ]
  },
  {
   "cell_type": "code",
   "execution_count": 20,
   "metadata": {},
   "outputs": [
    {
     "data": {
      "text/plain": [
       "<AxesSubplot:ylabel='None'>"
      ]
     },
     "execution_count": 20,
     "metadata": {},
     "output_type": "execute_result"
    },
    {
     "data": {
      "image/png": "[encoded data removed]",
      "text/plain": [
       "<Figure size 1440x720 with 1 Axes>"
      ]
     },
     "metadata": {},
     "output_type": "display_data"
    }
   ],
   "source": [
    "plt.figure(figsize=(20,10))#y is none #piechart \n",
    "Chicago.groupby('room_type').size().plot(kind='pie', autopct='%.2f')"
   ]
  },
  {
   "cell_type": "markdown",
   "metadata": {},
   "source": [
    "The pie Chart in Figure 4 shows the percentage of each room type in the data set. And as observed we can see that 66.38 % Entire home, 1.83% Shared room, 1.05 % Hotel room and 30.73 % Private room."
   ]
  },
  {
   "cell_type": "code",
   "execution_count": 21,
   "metadata": {},
   "outputs": [],
   "source": [
    "# Let's dig deeper into the categorical columns"
   ]
  },
  {
   "cell_type": "code",
   "execution_count": 22,
   "metadata": {},
   "outputs": [
    {
     "data": {
      "text/plain": [
       "array(['t', 'f'], dtype=object)"
      ]
     },
     "execution_count": 22,
     "metadata": {},
     "output_type": "execute_result"
    }
   ],
   "source": [
    "Chicago['host_is_superhost'].unique()"
   ]
  },
  {
   "cell_type": "code",
   "execution_count": 23,
   "metadata": {},
   "outputs": [
    {
     "data": {
      "text/plain": [
       "array(['t', 'f'], dtype=object)"
      ]
     },
     "execution_count": 23,
     "metadata": {},
     "output_type": "execute_result"
    }
   ],
   "source": [
    "Chicago['host_has_profile_pic'].unique()"
   ]
  },
  {
   "cell_type": "code",
   "execution_count": 24,
   "metadata": {},
   "outputs": [
    {
     "data": {
      "text/plain": [
       "array(['t', 'f'], dtype=object)"
      ]
     },
     "execution_count": 24,
     "metadata": {},
     "output_type": "execute_result"
    }
   ],
   "source": [
    "Chicago['host_identity_verified'].unique()"
   ]
  },
  {
   "cell_type": "code",
   "execution_count": 25,
   "metadata": {},
   "outputs": [
    {
     "data": {
      "text/plain": [
       "array(['t', 'f'], dtype=object)"
      ]
     },
     "execution_count": 25,
     "metadata": {},
     "output_type": "execute_result"
    }
   ],
   "source": [
    "Chicago['has_availability'].unique()"
   ]
  },
  {
   "cell_type": "code",
   "execution_count": 26,
   "metadata": {},
   "outputs": [
    {
     "data": {
      "text/plain": [
       "array(['f', 't'], dtype=object)"
      ]
     },
     "execution_count": 26,
     "metadata": {},
     "output_type": "execute_result"
    }
   ],
   "source": [
    "Chicago['instant_bookable'].unique()"
   ]
  },
  {
   "cell_type": "code",
   "execution_count": 27,
   "metadata": {},
   "outputs": [
    {
     "data": {
      "text/plain": [
       "array(['Hyde Park', 'South Lawndale', 'West Town', 'Lincoln Park',\n",
       "       'Uptown', 'Near North Side', 'North Center', 'Lake View',\n",
       "       'Albany Park', 'Logan Square', 'Pullman', 'Near South Side',\n",
       "       'West Ridge', 'Near West Side', 'Edgewater', 'Bridgeport',\n",
       "       'Kenwood', 'Rogers Park', 'Lincoln Square', 'Grand Boulevard',\n",
       "       'Forest Glen', 'Loop', 'Lower West Side', 'Humboldt Park',\n",
       "       'East Garfield Park', 'North Lawndale', 'Oakland', 'Irving Park',\n",
       "       'Beverly', 'Chatham', 'Mckinley Park', 'Woodlawn', 'Avondale',\n",
       "       'Norwood Park', 'Portage Park', 'Washington Park', 'Morgan Park',\n",
       "       'Dunning', 'West Lawn', 'South Shore', 'Armour Square',\n",
       "       'South Deering', 'West Garfield Park', 'Hermosa', 'Douglas',\n",
       "       'Hegewisch', 'North Park', 'Greater Grand Crossing',\n",
       "       'Jefferson Park', 'Belmont Cragin', 'Garfield Ridge', 'Austin',\n",
       "       'Ashburn', 'West Elsdon', 'Brighton Park', 'Archer Heights',\n",
       "       'Ohare', 'Edison Park', 'Auburn Gresham', 'Chicago Lawn',\n",
       "       'South Chicago', 'Gage Park', 'New City', 'Montclare', 'Englewood',\n",
       "       'Calumet Heights', 'Roseland', 'West Englewood', 'Avalon Park',\n",
       "       'Washington Heights', 'Burnside', 'Mount Greenwood', 'Clearing'],\n",
       "      dtype=object)"
      ]
     },
     "execution_count": 27,
     "metadata": {},
     "output_type": "execute_result"
    }
   ],
   "source": [
    "Chicago['neighbourhood_cleansed'].unique()"
   ]
  },
  {
   "cell_type": "code",
   "execution_count": 28,
   "metadata": {},
   "outputs": [
    {
     "data": {
      "text/plain": [
       "array(['Private room in condominium', 'Entire apartment',\n",
       "       'Room in boutique hotel', 'Private room in house',\n",
       "       'Private room in apartment', 'Entire condominium', 'Entire house',\n",
       "       'Private room in bungalow', 'Entire loft', 'Entire townhouse',\n",
       "       'Entire guest suite', 'Shared room in apartment',\n",
       "       'Room in bed and breakfast', 'Private room in bed and breakfast',\n",
       "       'Private room in townhouse', 'Private room in hostel',\n",
       "       'Entire guesthouse', 'Private room in guest suite',\n",
       "       'Shared room in hostel', 'Entire serviced apartment',\n",
       "       'Entire bungalow', 'Private room in loft', 'Room in aparthotel',\n",
       "       'Shared room in house', 'Room in serviced apartment',\n",
       "       'Shared room in condominium', 'Private room in cottage',\n",
       "       'Room in hostel', 'Entire place', 'Private room in guesthouse',\n",
       "       'Private room', 'Shared room in cave', 'Shared room in bungalow',\n",
       "       'Entire cottage', 'Private room in farm stay', 'Boat',\n",
       "       'Entire home/apt', 'Entire villa', 'Private room in tiny house',\n",
       "       'Room in hotel', 'Private room in villa',\n",
       "       'Private room in serviced apartment',\n",
       "       'Shared room in serviced apartment', 'Tiny house'], dtype=object)"
      ]
     },
     "execution_count": 28,
     "metadata": {},
     "output_type": "execute_result"
    }
   ],
   "source": [
    "Chicago['property_type'].unique()"
   ]
  },
  {
   "cell_type": "code",
   "execution_count": 29,
   "metadata": {},
   "outputs": [
    {
     "data": {
      "text/plain": [
       "array(['Private room', 'Entire home/apt', 'Shared room', 'Hotel room'],\n",
       "      dtype=object)"
      ]
     },
     "execution_count": 29,
     "metadata": {},
     "output_type": "execute_result"
    }
   ],
   "source": [
    "Chicago['room_type'].unique()"
   ]
  },
  {
   "cell_type": "markdown",
   "metadata": {},
   "source": [
    "The first 5 categorical values are True/False while the last 3 columns need labeling"
   ]
  },
  {
   "cell_type": "code",
   "execution_count": 30,
   "metadata": {},
   "outputs": [
    {
     "name": "stderr",
     "output_type": "stream",
     "text": [
      "<ipython-input-30-42c6e2c0ccf8>:3: SettingWithCopyWarning: \n",
      "A value is trying to be set on a copy of a slice from a DataFrame.\n",
      "Try using .loc[row_indexer,col_indexer] = value instead\n",
      "\n",
      "See the caveats in the documentation: https://pandas.pydata.org/pandas-docs/stable/user_guide/indexing.html#returning-a-view-versus-a-copy\n",
      "  Chicago['host_is_superhost'] = labelencoder.fit_transform(Chicago['host_is_superhost'])\n",
      "<ipython-input-30-42c6e2c0ccf8>:4: SettingWithCopyWarning: \n",
      "A value is trying to be set on a copy of a slice from a DataFrame.\n",
      "Try using .loc[row_indexer,col_indexer] = value instead\n",
      "\n",
      "See the caveats in the documentation: https://pandas.pydata.org/pandas-docs/stable/user_guide/indexing.html#returning-a-view-versus-a-copy\n",
      "  Chicago['host_has_profile_pic'] = labelencoder.fit_transform(Chicago['host_has_profile_pic'])\n",
      "<ipython-input-30-42c6e2c0ccf8>:5: SettingWithCopyWarning: \n",
      "A value is trying to be set on a copy of a slice from a DataFrame.\n",
      "Try using .loc[row_indexer,col_indexer] = value instead\n",
      "\n",
      "See the caveats in the documentation: https://pandas.pydata.org/pandas-docs/stable/user_guide/indexing.html#returning-a-view-versus-a-copy\n",
      "  Chicago['host_identity_verified'] = labelencoder.fit_transform(Chicago['host_identity_verified'])\n",
      "<ipython-input-30-42c6e2c0ccf8>:6: SettingWithCopyWarning: \n",
      "A value is trying to be set on a copy of a slice from a DataFrame.\n",
      "Try using .loc[row_indexer,col_indexer] = value instead\n",
      "\n",
      "See the caveats in the documentation: https://pandas.pydata.org/pandas-docs/stable/user_guide/indexing.html#returning-a-view-versus-a-copy\n",
      "  Chicago['has_availability'] = labelencoder.fit_transform(Chicago['has_availability'])\n",
      "<ipython-input-30-42c6e2c0ccf8>:7: SettingWithCopyWarning: \n",
      "A value is trying to be set on a copy of a slice from a DataFrame.\n",
      "Try using .loc[row_indexer,col_indexer] = value instead\n",
      "\n",
      "See the caveats in the documentation: https://pandas.pydata.org/pandas-docs/stable/user_guide/indexing.html#returning-a-view-versus-a-copy\n",
      "  Chicago['instant_bookable'] = labelencoder.fit_transform(Chicago['instant_bookable'])\n",
      "<ipython-input-30-42c6e2c0ccf8>:8: SettingWithCopyWarning: \n",
      "A value is trying to be set on a copy of a slice from a DataFrame.\n",
      "Try using .loc[row_indexer,col_indexer] = value instead\n",
      "\n",
      "See the caveats in the documentation: https://pandas.pydata.org/pandas-docs/stable/user_guide/indexing.html#returning-a-view-versus-a-copy\n",
      "  Chicago['neighbourhood_cleansed'] = labelencoder.fit_transform(Chicago['neighbourhood_cleansed'])\n",
      "<ipython-input-30-42c6e2c0ccf8>:9: SettingWithCopyWarning: \n",
      "A value is trying to be set on a copy of a slice from a DataFrame.\n",
      "Try using .loc[row_indexer,col_indexer] = value instead\n",
      "\n",
      "See the caveats in the documentation: https://pandas.pydata.org/pandas-docs/stable/user_guide/indexing.html#returning-a-view-versus-a-copy\n",
      "  Chicago['property_type'] = labelencoder.fit_transform(Chicago['property_type'])\n",
      "<ipython-input-30-42c6e2c0ccf8>:10: SettingWithCopyWarning: \n",
      "A value is trying to be set on a copy of a slice from a DataFrame.\n",
      "Try using .loc[row_indexer,col_indexer] = value instead\n",
      "\n",
      "See the caveats in the documentation: https://pandas.pydata.org/pandas-docs/stable/user_guide/indexing.html#returning-a-view-versus-a-copy\n",
      "  Chicago['room_type'] = labelencoder.fit_transform(Chicago['room_type'])\n"
     ]
    }
   ],
   "source": [
    "#Converting our class label into binary value\n",
    "labelencoder = LabelEncoder()\n",
    "Chicago['host_is_superhost'] = labelencoder.fit_transform(Chicago['host_is_superhost'])\n",
    "Chicago['host_has_profile_pic'] = labelencoder.fit_transform(Chicago['host_has_profile_pic'])\n",
    "Chicago['host_identity_verified'] = labelencoder.fit_transform(Chicago['host_identity_verified'])\n",
    "Chicago['has_availability'] = labelencoder.fit_transform(Chicago['has_availability'])\n",
    "Chicago['instant_bookable'] = labelencoder.fit_transform(Chicago['instant_bookable'])\n",
    "Chicago['neighbourhood_cleansed'] = labelencoder.fit_transform(Chicago['neighbourhood_cleansed'])\n",
    "Chicago['property_type'] = labelencoder.fit_transform(Chicago['property_type'])\n",
    "Chicago['room_type'] = labelencoder.fit_transform(Chicago['room_type'])"
   ]
  },
  {
   "cell_type": "markdown",
   "metadata": {},
   "source": [
    "# Analyze correlation between columns"
   ]
  },
  {
   "cell_type": "code",
   "execution_count": 31,
   "metadata": {},
   "outputs": [
    {
     "data": {
      "text/plain": [
       "<AxesSubplot:>"
      ]
     },
     "execution_count": 31,
     "metadata": {},
     "output_type": "execute_result"
    },
    {
     "data": {
      "image/png": "[encoded data removed]",
      "text/plain": [
       "<Figure size 1440x720 with 2 Axes>"
      ]
     },
     "metadata": {},
     "output_type": "display_data"
    }
   ],
   "source": [
    "sns.set(rc={'figure.figsize':(20,10)})\n",
    "correlation_matrix = chicago.corr().round(2)\n",
    "sns.heatmap(data=correlation_matrix, annot=True)"
   ]
  },
  {
   "cell_type": "markdown",
   "metadata": {},
   "source": [
    "To fit a linear regression model, we select those features which have a high correlation \n",
    "with our target variable price. By looking at the correlation matrix we can see that there are some variables that have 0 correclation with price.\n",
    "And that beds(0.39), bedrooms (0.42)and accommodates(0.41) have the highest correlation value.\n",
    "There are some multi-co-linearity between availability_30, availability_90 (0.91), minimum nights and minimum avg night(0.99), availability_30 and availability60 (0.96)\n",
    "availability_60 and availability_90(0.98). And between availability_360, and avialability 30, 60 and 90. And some multi-co-linearity between minimum_nights and maximum_nights. And room_type and proprety type. The variables that have multi-co-linearity. We should not select both them together \n",
    "for training the model. "
   ]
  },
  {
   "cell_type": "code",
   "execution_count": 32,
   "metadata": {},
   "outputs": [],
   "source": [
    "# Let's now drop the columns which have 0 (Zero) correlation with price.\n",
    "Chicago=Chicago.drop(['host_is_superhost', 'host_has_profile_pic', 'minimum_nights', 'maximum_nights', 'minimum_minimum_nights',\n",
    "                      'maximum_maximum_nights', 'minimum_nights_avg_ntm', 'maximum_nights_avg_ntm',\n",
    "                      \n",
    "                     ], axis = 1)"
   ]
  },
  {
   "cell_type": "code",
   "execution_count": 33,
   "metadata": {},
   "outputs": [],
   "source": [
    "# We also have to drop columns that have high correlation between them. \n",
    "Chicago=Chicago.drop(['property_type', 'availability_60', 'availability_90', 'availability_365'\n",
    "                     ], axis = 1)"
   ]
  },
  {
   "cell_type": "code",
   "execution_count": 34,
   "metadata": {},
   "outputs": [
    {
     "data": {
      "text/plain": [
       "(4477, 14)"
      ]
     },
     "execution_count": 34,
     "metadata": {},
     "output_type": "execute_result"
    }
   ],
   "source": [
    "Chicago.shape #Data have 4477 rows and 14 columns"
   ]
  },
  {
   "cell_type": "code",
   "execution_count": 35,
   "metadata": {},
   "outputs": [
    {
     "name": "stdout",
     "output_type": "stream",
     "text": [
      "<class 'pandas.core.frame.DataFrame'>\n",
      "Int64Index: 4477 entries, 0 to 6522\n",
      "Data columns (total 14 columns):\n",
      " #   Column                  Non-Null Count  Dtype  \n",
      "---  ------                  --------------  -----  \n",
      " 0   host_identity_verified  4477 non-null   int64  \n",
      " 1   neighbourhood_cleansed  4477 non-null   int64  \n",
      " 2   latitude                4477 non-null   float64\n",
      " 3   longitude               4477 non-null   float64\n",
      " 4   room_type               4477 non-null   int64  \n",
      " 5   accommodates            4477 non-null   int64  \n",
      " 6   bedrooms                4477 non-null   float64\n",
      " 7   beds                    4477 non-null   float64\n",
      " 8   price                   4477 non-null   float64\n",
      " 9   maximum_minimum_nights  4477 non-null   int64  \n",
      " 10  minimum_maximum_nights  4477 non-null   int64  \n",
      " 11  has_availability        4477 non-null   int64  \n",
      " 12  availability_30         4477 non-null   int64  \n",
      " 13  instant_bookable        4477 non-null   int64  \n",
      "dtypes: float64(5), int64(9)\n",
      "memory usage: 524.6 KB\n"
     ]
    }
   ],
   "source": [
    "Chicago.info() #Data have 14 columns and 4477 rows.There are no missing values and data type are integers and floats."
   ]
  },
  {
   "cell_type": "markdown",
   "metadata": {},
   "source": [
    "# Remove outliers"
   ]
  },
  {
   "cell_type": "code",
   "execution_count": 36,
   "metadata": {},
   "outputs": [
    {
     "name": "stdout",
     "output_type": "stream",
     "text": [
      "[4452   17    6    1    0    0    0    0    0    1]\n",
      "[  10.  1008.9 2007.8 3006.7 4005.6 5004.5 6003.4 7002.3 8001.2 9000.1\n",
      " 9999. ]\n"
     ]
    },
    {
     "data": {
      "image/png": "[encoded data removed]",
      "text/plain": [
       "<Figure size 1440x720 with 1 Axes>"
      ]
     },
     "metadata": {},
     "output_type": "display_data"
    }
   ],
   "source": [
    "# Histogram\n",
    "# set bin edges\n",
    "count, bin_edges = np.histogram(Chicago['price'])\n",
    "print(count) # frequency count\n",
    "print(bin_edges) # bin ranges, default = 10 bins\n",
    "\n",
    "#Create the histogram\n",
    "chicago['price'].plot(kind='hist', figsize=(20, 10), xticks=bin_edges)\n",
    "\n",
    "plt.title('Histogram of prices') # add a title to the histogram\n",
    "plt.ylabel('Number of listings') # add y-label\n",
    "plt.xlabel('Price') # add x-label\n",
    "\n",
    "plt.show()"
   ]
  },
  {
   "cell_type": "code",
   "execution_count": 37,
   "metadata": {},
   "outputs": [],
   "source": [
    "# Of course rooms that cost more than couple of 100s per night would be outliers and should be removed"
   ]
  },
  {
   "cell_type": "code",
   "execution_count": 38,
   "metadata": {},
   "outputs": [
    {
     "data": {
      "text/plain": [
       "array([[<AxesSubplot:title={'center':'host_identity_verified'}>,\n",
       "        <AxesSubplot:title={'center':'neighbourhood_cleansed'}>,\n",
       "        <AxesSubplot:title={'center':'latitude'}>,\n",
       "        <AxesSubplot:title={'center':'longitude'}>],\n",
       "       [<AxesSubplot:title={'center':'room_type'}>,\n",
       "        <AxesSubplot:title={'center':'accommodates'}>,\n",
       "        <AxesSubplot:title={'center':'bedrooms'}>,\n",
       "        <AxesSubplot:title={'center':'beds'}>],\n",
       "       [<AxesSubplot:title={'center':'price'}>,\n",
       "        <AxesSubplot:title={'center':'maximum_minimum_nights'}>,\n",
       "        <AxesSubplot:title={'center':'minimum_maximum_nights'}>,\n",
       "        <AxesSubplot:title={'center':'has_availability'}>],\n",
       "       [<AxesSubplot:title={'center':'availability_30'}>,\n",
       "        <AxesSubplot:title={'center':'instant_bookable'}>,\n",
       "        <AxesSubplot:>, <AxesSubplot:>]], dtype=object)"
      ]
     },
     "execution_count": 38,
     "metadata": {},
     "output_type": "execute_result"
    },
    {
     "data": {
      "image/png": "[encoded data removed]",
      "text/plain": [
       "<Figure size 1440x720 with 16 Axes>"
      ]
     },
     "metadata": {},
     "output_type": "display_data"
    }
   ],
   "source": [
    "Chicago.hist()"
   ]
  },
  {
   "cell_type": "code",
   "execution_count": 39,
   "metadata": {},
   "outputs": [
    {
     "data": {
      "text/plain": [
       "<AxesSubplot:xlabel='price'>"
      ]
     },
     "execution_count": 39,
     "metadata": {},
     "output_type": "execute_result"
    },
    {
     "data": {
      "image/png": "[encoded data removed]",
      "text/plain": [
       "<Figure size 1440x720 with 1 Axes>"
      ]
     },
     "metadata": {},
     "output_type": "display_data"
    }
   ],
   "source": [
    "sns.boxplot(x=Chicago['price'])"
   ]
  },
  {
   "cell_type": "markdown",
   "metadata": {},
   "source": [
    "The box plot is a visualization of price, and the data have a right-skewed distribution with some outliers. We will do some outliers detection and see if these outliers will affect our data analysis. "
   ]
  },
  {
   "cell_type": "code",
   "execution_count": 40,
   "metadata": {},
   "outputs": [
    {
     "name": "stdout",
     "output_type": "stream",
     "text": [
      "[[0.44391308 0.57602812 1.87626586 ... 0.06353566 1.03691427 0.70485729]\n",
      " [0.44391308 1.03248652 0.76634003 ... 0.06353566 1.03691427 1.4187269 ]\n",
      " [0.44391308 1.56865807 0.02724453 ... 0.06353566 1.03691427 0.70485729]\n",
      " ...\n",
      " [0.44391308 0.62964528 0.04611575 ... 0.06353566 0.39526969 0.70485729]\n",
      " [0.44391308 1.62227522 1.940275   ... 0.06353566 1.350059   0.70485729]\n",
      " [0.44391308 1.08610367 2.40169795 ... 0.06353566 0.87266434 0.70485729]]\n"
     ]
    }
   ],
   "source": [
    "#Let's check outliers. We will calculate Z score to find the values  above the mean value of Age\n",
    "z_score = np.abs(stats.zscore(Chicago))\n",
    "print(z_score)"
   ]
  },
  {
   "cell_type": "code",
   "execution_count": 41,
   "metadata": {},
   "outputs": [
    {
     "name": "stdout",
     "output_type": "stream",
     "text": [
      "(array([   6,   11,   12, ..., 4473, 4473, 4476]), array([9, 0, 7, ..., 0, 8, 2]))\n"
     ]
    }
   ],
   "source": [
    "# The points we have from Z we can't tell which points are outliers. Therefore we set a cutoff of Z>2\n",
    "threshold = 2\n",
    "print(np.where(z_score > 2))"
   ]
  },
  {
   "cell_type": "code",
   "execution_count": 42,
   "metadata": {},
   "outputs": [
    {
     "name": "stdout",
     "output_type": "stream",
     "text": [
      "(2861, 14)\n"
     ]
    }
   ],
   "source": [
    "Chicago_nout= Chicago[(z_score< 2).all(axis=1)] \n",
    "print(Chicago_nout.shape) # We can see that our intial data was 4477 now fter droping the outliers is 2861(1616 rows less(36 % of the data))."
   ]
  },
  {
   "cell_type": "code",
   "execution_count": 43,
   "metadata": {},
   "outputs": [
    {
     "name": "stdout",
     "output_type": "stream",
     "text": [
      "[[0.44391308 0.57602812 1.87626586 ... 0.06353566 1.03691427 0.70485729]\n",
      " [0.44391308 1.03248652 0.76634003 ... 0.06353566 1.03691427 1.4187269 ]\n",
      " [0.44391308 1.56865807 0.02724453 ... 0.06353566 1.03691427 0.70485729]\n",
      " ...\n",
      " [0.44391308 0.62964528 0.04611575 ... 0.06353566 0.39526969 0.70485729]\n",
      " [0.44391308 1.62227522 1.940275   ... 0.06353566 1.350059   0.70485729]\n",
      " [0.44391308 1.08610367 2.40169795 ... 0.06353566 0.87266434 0.70485729]]\n"
     ]
    }
   ],
   "source": [
    "#Let's check outliers. We will calculate Z score to find the values  above the mean value of Age\n",
    "\n",
    "z_score = np.abs(stats.zscore(Chicago))\n",
    "print(z_score)"
   ]
  },
  {
   "cell_type": "code",
   "execution_count": 44,
   "metadata": {},
   "outputs": [
    {
     "name": "stdout",
     "output_type": "stream",
     "text": [
      "(array([   6,   12,   25,   26,   27,   29,   33,   33,   33,   33,   35,\n",
      "         73,   74,   80,  108,  108,  113,  122,  124,  125,  125,  133,\n",
      "        140,  159,  170,  173,  190,  196,  196,  196,  196,  199,  201,\n",
      "        203,  204,  208,  229,  229,  229,  229,  311,  328,  330,  372,\n",
      "        388,  403,  516,  526,  526,  533,  632,  640,  693,  693,  747,\n",
      "        758,  763,  802,  804,  811,  812,  812,  831,  834,  870,  874,\n",
      "        874,  902,  913,  913,  914,  914,  933,  947,  947,  947,  947,\n",
      "        983,  990, 1049, 1050, 1065, 1072, 1072, 1072, 1072, 1109, 1121,\n",
      "       1137, 1162, 1186, 1186, 1186, 1186, 1200, 1200, 1200, 1205, 1255,\n",
      "       1256, 1262, 1263, 1269, 1269, 1282, 1290, 1306, 1306, 1324, 1326,\n",
      "       1336, 1338, 1338, 1350, 1359, 1396, 1401, 1434, 1447, 1454, 1454,\n",
      "       1454, 1471, 1471, 1471, 1473, 1473, 1473, 1476, 1531, 1560, 1561,\n",
      "       1569, 1581, 1584, 1609, 1615, 1616, 1622, 1622, 1622, 1628, 1635,\n",
      "       1635, 1635, 1642, 1654, 1683, 1705, 1724, 1744, 1747, 1756, 1765,\n",
      "       1775, 1780, 1781, 1781, 1789, 1794, 1796, 1797, 1805, 1817, 1834,\n",
      "       1837, 1839, 1839, 1897, 1902, 1902, 1902, 1911, 1980, 2024, 2036,\n",
      "       2040, 2040, 2040, 2055, 2064, 2064, 2064, 2090, 2090, 2126, 2126,\n",
      "       2139, 2156, 2156, 2176, 2205, 2205, 2207, 2216, 2217, 2223, 2231,\n",
      "       2243, 2247, 2247, 2277, 2309, 2318, 2342, 2342, 2363, 2434, 2434,\n",
      "       2443, 2450, 2481, 2481, 2481, 2497, 2497, 2560, 2573, 2573, 2574,\n",
      "       2574, 2574, 2576, 2685, 2691, 2716, 2726, 2736, 2749, 2767, 2767,\n",
      "       2767, 2779, 2779, 2779, 2781, 2781, 2781, 2781, 2793, 2796, 2796,\n",
      "       2796, 2815, 2816, 2827, 2835, 2835, 2835, 2836, 2836, 2836, 2837,\n",
      "       2837, 2838, 2856, 2856, 2856, 2876, 2898, 2898, 2926, 2939, 2945,\n",
      "       2945, 2949, 2949, 2959, 2963, 2963, 2963, 2963, 2974, 2974, 2974,\n",
      "       2975, 2977, 2977, 2977, 2977, 2984, 2986, 3008, 3023, 3029, 3029,\n",
      "       3029, 3050, 3052, 3054, 3056, 3066, 3070, 3070, 3071, 3071, 3084,\n",
      "       3084, 3088, 3103, 3103, 3138, 3138, 3138, 3147, 3149, 3149, 3149,\n",
      "       3154, 3154, 3159, 3183, 3183, 3183, 3222, 3226, 3230, 3237, 3261,\n",
      "       3265, 3278, 3280, 3296, 3296, 3296, 3297, 3297, 3317, 3336, 3336,\n",
      "       3355, 3360, 3375, 3375, 3378, 3391, 3412, 3412, 3412, 3415, 3415,\n",
      "       3416, 3424, 3425, 3439, 3452, 3493, 3508, 3527, 3532, 3542, 3542,\n",
      "       3542, 3553, 3556, 3558, 3579, 3582, 3582, 3583, 3583, 3583, 3623,\n",
      "       3624, 3624, 3624, 3638, 3658, 3665, 3665, 3678, 3679, 3691, 3697,\n",
      "       3700, 3701, 3711, 3733, 3741, 3746, 3748, 3787, 3798, 3821, 3832,\n",
      "       3857, 3912, 3938, 3938, 3942, 3942, 3953, 3953, 3953, 3999, 4000,\n",
      "       4002, 4002, 4009, 4041, 4041, 4041, 4042, 4080, 4080, 4080, 4086,\n",
      "       4099, 4099, 4110, 4171, 4202, 4260, 4261, 4261, 4265, 4279, 4279,\n",
      "       4292, 4306, 4341, 4366, 4367, 4383, 4385, 4385, 4431, 4431, 4451,\n",
      "       4473]), array([ 9,  7,  2,  2,  9,  9,  5,  6,  7,  8,  9,  9,  9,  9,  5,  7,  7,\n",
      "        2,  7,  6,  7,  9,  9,  6,  9,  7,  6,  5,  6,  7,  8,  9,  7,  2,\n",
      "        2,  3,  5,  6,  7,  8,  3,  2,  8,  9,  6,  2,  3,  5,  6,  9,  3,\n",
      "        5,  6,  8,  9,  8,  8,  7,  6,  6,  6,  9,  7,  9,  9,  5,  6,  6,\n",
      "        5,  7,  5,  6,  7,  5,  6,  7,  8,  5,  7,  9,  3,  8,  5,  6,  7,\n",
      "        8,  8, 11,  3,  3,  5,  6,  7,  8,  5,  6,  7,  3,  8,  6,  7,  5,\n",
      "        5,  6,  5,  9,  7,  8,  8,  3,  7,  6,  8, 11,  8, 11,  5,  5,  6,\n",
      "        5,  6,  7,  5,  6,  7,  5,  6,  7,  7,  5,  9, 11,  6, 11,  3, 11,\n",
      "        6,  5,  5,  6,  7,  6,  5,  6,  7,  3,  9,  9,  7, 11,  9,  5,  6,\n",
      "       11,  3,  7,  5,  7,  3,  9,  9,  6,  3,  2, 11,  6,  5,  7,  5,  5,\n",
      "        6,  7,  7,  5,  2,  6,  5,  6,  7,  3,  5,  6,  8,  8,  9,  2, 11,\n",
      "        8,  5,  7,  3,  5,  6,  5, 11, 11,  2, 11,  9,  6,  7,  7, 11,  6,\n",
      "        5,  7, 11,  8, 11,  7,  3,  5,  6,  7,  6,  8,  2,  6,  7,  5,  6,\n",
      "        7, 11,  2,  5,  5,  5,  3,  5,  5,  6,  7,  5,  6,  7,  5,  6,  7,\n",
      "        8, 11,  5,  6,  7,  5,  3,  7,  5,  6,  8,  5,  6,  7,  5,  7,  5,\n",
      "        5,  7,  8,  8,  5,  7,  6,  6,  5,  8,  5,  7,  9,  5,  6,  7,  8,\n",
      "        5,  6,  7,  8,  5,  6,  7,  8,  8,  2,  9,  3,  5,  6,  7,  6,  8,\n",
      "        5,  5,  3,  7,  8,  5,  8,  6,  8,  6,  6,  7,  5,  6,  7,  2,  5,\n",
      "        6,  8,  6,  7,  8,  5,  6,  7,  5,  6,  2,  7,  7,  5,  9,  9,  5,\n",
      "        6,  7,  5,  7,  6,  5,  6,  2,  7,  5,  8,  5,  3,  5,  6,  7,  5,\n",
      "        6,  2,  3,  7,  2,  8,  9,  6,  9,  6,  5,  6,  7,  9,  6,  2,  6,\n",
      "        5,  6,  5,  6,  7,  2,  5,  6,  7,  2,  2,  5,  7,  2,  9,  3,  3,\n",
      "        3,  9,  2,  5,  9,  8,  3,  3,  9,  5,  9,  3,  6,  5,  6,  5,  6,\n",
      "        5,  6,  7,  9,  6,  7,  8,  5,  5,  6,  7,  8,  5,  6,  7,  6,  5,\n",
      "        7,  5,  5,  3,  9,  5,  6,  5,  5,  6,  3,  3,  5,  3,  3,  7,  6,\n",
      "        8,  5,  6,  9,  8]))\n"
     ]
    }
   ],
   "source": [
    "# The points we have from Z we can't tell which points are outliers. Therefore we set a cutoff of Z>3\n",
    "threshold = 3\n",
    "print(np.where(z_score > 3))"
   ]
  },
  {
   "cell_type": "code",
   "execution_count": 45,
   "metadata": {},
   "outputs": [
    {
     "data": {
      "text/plain": [
       "host_identity_verified      0.888372\n",
       "neighbourhood_cleansed     41.693023\n",
       "latitude                   41.898855\n",
       "longitude                 -87.674471\n",
       "room_type                   0.260465\n",
       "accommodates               10.602326\n",
       "bedrooms                    4.051163\n",
       "beds                        6.581395\n",
       "price                     618.062791\n",
       "maximum_minimum_nights     21.286047\n",
       "minimum_maximum_nights    866.462791\n",
       "has_availability            0.953488\n",
       "availability_30            14.946512\n",
       "instant_bookable            0.302326\n",
       "dtype: float64"
      ]
     },
     "execution_count": 45,
     "metadata": {},
     "output_type": "execute_result"
    }
   ],
   "source": [
    "outdata1=Chicago[(z_score >=3)]# Now we are creating a data frame of all the values that are bigger than 3(outliers)\n",
    "#The mean of the outliers\n",
    "outdata1.mean()"
   ]
  },
  {
   "cell_type": "code",
   "execution_count": 46,
   "metadata": {},
   "outputs": [
    {
     "name": "stdout",
     "output_type": "stream",
     "text": [
      "(4179, 14)\n"
     ]
    }
   ],
   "source": [
    "Chicago_nout1= Chicago[(z_score< 3).all(axis=1)] \n",
    "print(Chicago_nout1.shape) # We can see that our intial data was 4477 now fter droping the outliers is 4179(298 rows less, 6.7% )."
   ]
  },
  {
   "cell_type": "code",
   "execution_count": 47,
   "metadata": {},
   "outputs": [
    {
     "data": {
      "text/plain": [
       "host_identity_verified      0.835381\n",
       "neighbourhood_cleansed     41.743355\n",
       "latitude                   41.901244\n",
       "longitude                 -87.667195\n",
       "room_type                   0.680143\n",
       "accommodates                4.253965\n",
       "bedrooms                    1.753630\n",
       "beds                        2.198794\n",
       "price                     136.719678\n",
       "maximum_minimum_nights      8.215546\n",
       "minimum_maximum_nights    858.447398\n",
       "has_availability            0.995979\n",
       "availability_30            13.032164\n",
       "instant_bookable            0.331919\n",
       "dtype: float64"
      ]
     },
     "execution_count": 47,
     "metadata": {},
     "output_type": "execute_result"
    }
   ],
   "source": [
    "Chicago.mean() #The mean of data columns with the outliers"
   ]
  },
  {
   "cell_type": "code",
   "execution_count": 48,
   "metadata": {},
   "outputs": [
    {
     "data": {
      "text/plain": [
       "host_identity_verified      0.834171\n",
       "neighbourhood_cleansed     41.758794\n",
       "latitude                   41.901756\n",
       "longitude                 -87.666389\n",
       "room_type                   0.702321\n",
       "accommodates                3.931802\n",
       "bedrooms                    1.640584\n",
       "beds                        1.991146\n",
       "price                     114.174444\n",
       "maximum_minimum_nights      6.814549\n",
       "minimum_maximum_nights    858.309404\n",
       "has_availability            1.000000\n",
       "availability_30            12.904762\n",
       "instant_bookable            0.334051\n",
       "dtype: float64"
      ]
     },
     "execution_count": 48,
     "metadata": {},
     "output_type": "execute_result"
    }
   ],
   "source": [
    "Chicago_nout1.mean() #The mean of data column with out the outliers"
   ]
  },
  {
   "cell_type": "markdown",
   "metadata": {},
   "source": [
    "As you can see the dataset with outliers have a higher mean of price (136.719678) than without outliers (114.174444).From this we can see that having the outliers will effect our analysis.There"
   ]
  },
  {
   "cell_type": "code",
   "execution_count": 49,
   "metadata": {},
   "outputs": [
    {
     "name": "stdout",
     "output_type": "stream",
     "text": [
      "<class 'pandas.core.frame.DataFrame'>\n",
      "Int64Index: 4179 entries, 0 to 6522\n",
      "Data columns (total 14 columns):\n",
      " #   Column                  Non-Null Count  Dtype  \n",
      "---  ------                  --------------  -----  \n",
      " 0   host_identity_verified  4179 non-null   int64  \n",
      " 1   neighbourhood_cleansed  4179 non-null   int64  \n",
      " 2   latitude                4179 non-null   float64\n",
      " 3   longitude               4179 non-null   float64\n",
      " 4   room_type               4179 non-null   int64  \n",
      " 5   accommodates            4179 non-null   int64  \n",
      " 6   bedrooms                4179 non-null   float64\n",
      " 7   beds                    4179 non-null   float64\n",
      " 8   price                   4179 non-null   float64\n",
      " 9   maximum_minimum_nights  4179 non-null   int64  \n",
      " 10  minimum_maximum_nights  4179 non-null   int64  \n",
      " 11  has_availability        4179 non-null   int64  \n",
      " 12  availability_30         4179 non-null   int64  \n",
      " 13  instant_bookable        4179 non-null   int64  \n",
      "dtypes: float64(5), int64(9)\n",
      "memory usage: 489.7 KB\n"
     ]
    }
   ],
   "source": [
    "Chicago_nout1.info() #This is the clean data with 4179 rows and 14 columns.\n"
   ]
  },
  {
   "cell_type": "markdown",
   "metadata": {},
   "source": [
    "# Split data into dependent and independent variables"
   ]
  },
  {
   "cell_type": "code",
   "execution_count": 50,
   "metadata": {},
   "outputs": [
    {
     "data": {
      "text/html": [
       "<div>\n",
       "<style scoped>\n",
       "    .dataframe tbody tr th:only-of-type {\n",
       "        vertical-align: middle;\n",
       "    }\n",
       "\n",
       "    .dataframe tbody tr th {\n",
       "        vertical-align: top;\n",
       "    }\n",
       "\n",
       "    .dataframe thead th {\n",
       "        text-align: right;\n",
       "    }\n",
       "</style>\n",
       "<table border=\"1\" class=\"dataframe\">\n",
       "  <thead>\n",
       "    <tr style=\"text-align: right;\">\n",
       "      <th></th>\n",
       "      <th>host_identity_verified</th>\n",
       "      <th>neighbourhood_cleansed</th>\n",
       "      <th>latitude</th>\n",
       "      <th>longitude</th>\n",
       "      <th>room_type</th>\n",
       "      <th>accommodates</th>\n",
       "      <th>bedrooms</th>\n",
       "      <th>beds</th>\n",
       "      <th>maximum_minimum_nights</th>\n",
       "      <th>minimum_maximum_nights</th>\n",
       "      <th>has_availability</th>\n",
       "      <th>availability_30</th>\n",
       "      <th>instant_bookable</th>\n",
       "    </tr>\n",
       "  </thead>\n",
       "  <tbody>\n",
       "    <tr>\n",
       "      <th>0</th>\n",
       "      <td>1</td>\n",
       "      <td>31</td>\n",
       "      <td>41.78790</td>\n",
       "      <td>-87.58780</td>\n",
       "      <td>2</td>\n",
       "      <td>1</td>\n",
       "      <td>1.0</td>\n",
       "      <td>1.0</td>\n",
       "      <td>2</td>\n",
       "      <td>29</td>\n",
       "      <td>1</td>\n",
       "      <td>0</td>\n",
       "      <td>0</td>\n",
       "    </tr>\n",
       "    <tr>\n",
       "      <th>1</th>\n",
       "      <td>1</td>\n",
       "      <td>61</td>\n",
       "      <td>41.85495</td>\n",
       "      <td>-87.69696</td>\n",
       "      <td>0</td>\n",
       "      <td>7</td>\n",
       "      <td>3.0</td>\n",
       "      <td>5.0</td>\n",
       "      <td>2</td>\n",
       "      <td>60</td>\n",
       "      <td>1</td>\n",
       "      <td>0</td>\n",
       "      <td>1</td>\n",
       "    </tr>\n",
       "    <tr>\n",
       "      <th>2</th>\n",
       "      <td>1</td>\n",
       "      <td>71</td>\n",
       "      <td>41.90289</td>\n",
       "      <td>-87.68182</td>\n",
       "      <td>0</td>\n",
       "      <td>2</td>\n",
       "      <td>3.0</td>\n",
       "      <td>4.0</td>\n",
       "      <td>2</td>\n",
       "      <td>1125</td>\n",
       "      <td>1</td>\n",
       "      <td>0</td>\n",
       "      <td>0</td>\n",
       "    </tr>\n",
       "    <tr>\n",
       "      <th>3</th>\n",
       "      <td>1</td>\n",
       "      <td>36</td>\n",
       "      <td>41.91769</td>\n",
       "      <td>-87.63788</td>\n",
       "      <td>0</td>\n",
       "      <td>4</td>\n",
       "      <td>1.0</td>\n",
       "      <td>2.0</td>\n",
       "      <td>4</td>\n",
       "      <td>180</td>\n",
       "      <td>1</td>\n",
       "      <td>7</td>\n",
       "      <td>0</td>\n",
       "    </tr>\n",
       "    <tr>\n",
       "      <th>5</th>\n",
       "      <td>1</td>\n",
       "      <td>36</td>\n",
       "      <td>41.91183</td>\n",
       "      <td>-87.64000</td>\n",
       "      <td>0</td>\n",
       "      <td>4</td>\n",
       "      <td>2.0</td>\n",
       "      <td>2.0</td>\n",
       "      <td>4</td>\n",
       "      <td>180</td>\n",
       "      <td>1</td>\n",
       "      <td>0</td>\n",
       "      <td>1</td>\n",
       "    </tr>\n",
       "  </tbody>\n",
       "</table>\n",
       "</div>"
      ],
      "text/plain": [
       "   host_identity_verified  neighbourhood_cleansed  latitude  longitude  \\\n",
       "0                       1                      31  41.78790  -87.58780   \n",
       "1                       1                      61  41.85495  -87.69696   \n",
       "2                       1                      71  41.90289  -87.68182   \n",
       "3                       1                      36  41.91769  -87.63788   \n",
       "5                       1                      36  41.91183  -87.64000   \n",
       "\n",
       "   room_type  accommodates  bedrooms  beds  maximum_minimum_nights  \\\n",
       "0          2             1       1.0   1.0                       2   \n",
       "1          0             7       3.0   5.0                       2   \n",
       "2          0             2       3.0   4.0                       2   \n",
       "3          0             4       1.0   2.0                       4   \n",
       "5          0             4       2.0   2.0                       4   \n",
       "\n",
       "   minimum_maximum_nights  has_availability  availability_30  instant_bookable  \n",
       "0                      29                 1                0                 0  \n",
       "1                      60                 1                0                 1  \n",
       "2                    1125                 1                0                 0  \n",
       "3                     180                 1                7                 0  \n",
       "5                     180                 1                0                 1  "
      ]
     },
     "execution_count": 50,
     "metadata": {},
     "output_type": "execute_result"
    }
   ],
   "source": [
    "# Let's import all the modules we need\n",
    "from sklearn.model_selection import train_test_split\n",
    "from sklearn.linear_model import LinearRegression #For linear regression implementation\n",
    "from sklearn.metrics import mean_squared_error #Its for model evaluation\n",
    "from sklearn.metrics import r2_score #Its for model evaluation\n",
    "\n",
    "#Dataframe with multiple columns/attributes\n",
    "X = Chicago_nout1.drop(columns=['price'], inplace=False)\n",
    "Y = Chicago_nout1['price']\n",
    "X.head()"
   ]
  },
  {
   "cell_type": "markdown",
   "metadata": {},
   "source": [
    "# Sampling"
   ]
  },
  {
   "cell_type": "code",
   "execution_count": 51,
   "metadata": {},
   "outputs": [
    {
     "name": "stdout",
     "output_type": "stream",
     "text": [
      "(3343, 13)\n",
      "(836, 13)\n",
      "(3343,)\n",
      "(836,)\n"
     ]
    }
   ],
   "source": [
    "#Smapling\n",
    "X_train, X_test, Y_train, Y_test = train_test_split(X, Y, test_size = 0.2, random_state=5)\n",
    "print(X_train.shape)\n",
    "print(X_test.shape)\n",
    "print(Y_train.shape)\n",
    "print(Y_test.shape)"
   ]
  },
  {
   "cell_type": "markdown",
   "metadata": {},
   "source": [
    "# Multilineal Regression"
   ]
  },
  {
   "cell_type": "markdown",
   "metadata": {},
   "source": [
    "### Model building"
   ]
  },
  {
   "cell_type": "code",
   "execution_count": 52,
   "metadata": {},
   "outputs": [
    {
     "data": {
      "text/plain": [
       "LinearRegression()"
      ]
     },
     "execution_count": 52,
     "metadata": {},
     "output_type": "execute_result"
    }
   ],
   "source": [
    "lin_model = LinearRegression()\n",
    "lin_model.fit(X_train, Y_train)"
   ]
  },
  {
   "cell_type": "markdown",
   "metadata": {},
   "source": [
    "### Model evaluation for training set"
   ]
  },
  {
   "cell_type": "code",
   "execution_count": 53,
   "metadata": {},
   "outputs": [
    {
     "name": "stdout",
     "output_type": "stream",
     "text": [
      "The model performance for training set\n",
      "--------------------------------------\n",
      "RMSE is 74.01720678145793\n",
      "R2 score is 0.3534992503956552\n",
      "\n",
      "\n"
     ]
    }
   ],
   "source": [
    "# model evaluation for training set (multilinear regression)\n",
    "\n",
    "\n",
    "y_train_predict = lin_model.predict(X_train)\n",
    "rmse = (np.sqrt(mean_squared_error(Y_train, y_train_predict)))\n",
    "r2 = r2_score(Y_train, y_train_predict)\n",
    "\n",
    "print(\"The model performance for training set\")\n",
    "print(\"--------------------------------------\")\n",
    "print('RMSE is {}'.format(rmse))\n",
    "print('R2 score is {}'.format(r2))\n",
    "print(\"\\n\")"
   ]
  },
  {
   "cell_type": "markdown",
   "metadata": {},
   "source": [
    "### Model evaluation for testing set"
   ]
  },
  {
   "cell_type": "code",
   "execution_count": 54,
   "metadata": {},
   "outputs": [
    {
     "name": "stdout",
     "output_type": "stream",
     "text": [
      "The model performance for testing set\n",
      "--------------------------------------\n",
      "RMSE is 86.90434127110589\n",
      "R2 score is 0.29491414392515947\n"
     ]
    }
   ],
   "source": [
    "# model evaluation for testing set(multilinear regression)\n",
    "y_test_predict = lin_model.predict(X_test)\n",
    "rmse = (np.sqrt(mean_squared_error(Y_test, y_test_predict)))\n",
    "r2 = r2_score(Y_test, y_test_predict)\n",
    "\n",
    "print(\"The model performance for testing set\")\n",
    "print(\"--------------------------------------\")\n",
    "print('RMSE is {}'.format(rmse))\n",
    "print('R2 score is {}'.format(r2))"
   ]
  },
  {
   "cell_type": "markdown",
   "metadata": {},
   "source": [
    "The R-square in training set is 0.35l, which reveals that only 35 % of the data fit the regression model, and 0.29 in the testing set. Therefore, we will  do a polynomial regression model to see if the R-square value improves."
   ]
  },
  {
   "cell_type": "markdown",
   "metadata": {},
   "source": [
    "# Polynomial Regression"
   ]
  },
  {
   "cell_type": "code",
   "execution_count": 55,
   "metadata": {},
   "outputs": [],
   "source": [
    "from sklearn.linear_model import LinearRegression\n",
    "from sklearn.preprocessing import PolynomialFeatures\n",
    "from sklearn.preprocessing import StandardScaler\n",
    "from sklearn.pipeline import Pipeline\n",
    "from sklearn.metrics import mean_squared_error"
   ]
  },
  {
   "cell_type": "code",
   "execution_count": 56,
   "metadata": {},
   "outputs": [
    {
     "data": {
      "text/html": [
       "<div>\n",
       "<style scoped>\n",
       "    .dataframe tbody tr th:only-of-type {\n",
       "        vertical-align: middle;\n",
       "    }\n",
       "\n",
       "    .dataframe tbody tr th {\n",
       "        vertical-align: top;\n",
       "    }\n",
       "\n",
       "    .dataframe thead th {\n",
       "        text-align: right;\n",
       "    }\n",
       "</style>\n",
       "<table border=\"1\" class=\"dataframe\">\n",
       "  <thead>\n",
       "    <tr style=\"text-align: right;\">\n",
       "      <th></th>\n",
       "      <th>host_identity_verified</th>\n",
       "      <th>neighbourhood_cleansed</th>\n",
       "      <th>latitude</th>\n",
       "      <th>longitude</th>\n",
       "      <th>room_type</th>\n",
       "      <th>accommodates</th>\n",
       "      <th>bedrooms</th>\n",
       "      <th>beds</th>\n",
       "      <th>maximum_minimum_nights</th>\n",
       "      <th>minimum_maximum_nights</th>\n",
       "      <th>has_availability</th>\n",
       "      <th>availability_30</th>\n",
       "      <th>instant_bookable</th>\n",
       "    </tr>\n",
       "  </thead>\n",
       "  <tbody>\n",
       "    <tr>\n",
       "      <th>0</th>\n",
       "      <td>1</td>\n",
       "      <td>31</td>\n",
       "      <td>41.78790</td>\n",
       "      <td>-87.58780</td>\n",
       "      <td>2</td>\n",
       "      <td>1</td>\n",
       "      <td>1.0</td>\n",
       "      <td>1.0</td>\n",
       "      <td>2</td>\n",
       "      <td>29</td>\n",
       "      <td>1</td>\n",
       "      <td>0</td>\n",
       "      <td>0</td>\n",
       "    </tr>\n",
       "    <tr>\n",
       "      <th>1</th>\n",
       "      <td>1</td>\n",
       "      <td>61</td>\n",
       "      <td>41.85495</td>\n",
       "      <td>-87.69696</td>\n",
       "      <td>0</td>\n",
       "      <td>7</td>\n",
       "      <td>3.0</td>\n",
       "      <td>5.0</td>\n",
       "      <td>2</td>\n",
       "      <td>60</td>\n",
       "      <td>1</td>\n",
       "      <td>0</td>\n",
       "      <td>1</td>\n",
       "    </tr>\n",
       "    <tr>\n",
       "      <th>2</th>\n",
       "      <td>1</td>\n",
       "      <td>71</td>\n",
       "      <td>41.90289</td>\n",
       "      <td>-87.68182</td>\n",
       "      <td>0</td>\n",
       "      <td>2</td>\n",
       "      <td>3.0</td>\n",
       "      <td>4.0</td>\n",
       "      <td>2</td>\n",
       "      <td>1125</td>\n",
       "      <td>1</td>\n",
       "      <td>0</td>\n",
       "      <td>0</td>\n",
       "    </tr>\n",
       "    <tr>\n",
       "      <th>3</th>\n",
       "      <td>1</td>\n",
       "      <td>36</td>\n",
       "      <td>41.91769</td>\n",
       "      <td>-87.63788</td>\n",
       "      <td>0</td>\n",
       "      <td>4</td>\n",
       "      <td>1.0</td>\n",
       "      <td>2.0</td>\n",
       "      <td>4</td>\n",
       "      <td>180</td>\n",
       "      <td>1</td>\n",
       "      <td>7</td>\n",
       "      <td>0</td>\n",
       "    </tr>\n",
       "    <tr>\n",
       "      <th>5</th>\n",
       "      <td>1</td>\n",
       "      <td>36</td>\n",
       "      <td>41.91183</td>\n",
       "      <td>-87.64000</td>\n",
       "      <td>0</td>\n",
       "      <td>4</td>\n",
       "      <td>2.0</td>\n",
       "      <td>2.0</td>\n",
       "      <td>4</td>\n",
       "      <td>180</td>\n",
       "      <td>1</td>\n",
       "      <td>0</td>\n",
       "      <td>1</td>\n",
       "    </tr>\n",
       "  </tbody>\n",
       "</table>\n",
       "</div>"
      ],
      "text/plain": [
       "   host_identity_verified  neighbourhood_cleansed  latitude  longitude  \\\n",
       "0                       1                      31  41.78790  -87.58780   \n",
       "1                       1                      61  41.85495  -87.69696   \n",
       "2                       1                      71  41.90289  -87.68182   \n",
       "3                       1                      36  41.91769  -87.63788   \n",
       "5                       1                      36  41.91183  -87.64000   \n",
       "\n",
       "   room_type  accommodates  bedrooms  beds  maximum_minimum_nights  \\\n",
       "0          2             1       1.0   1.0                       2   \n",
       "1          0             7       3.0   5.0                       2   \n",
       "2          0             2       3.0   4.0                       2   \n",
       "3          0             4       1.0   2.0                       4   \n",
       "5          0             4       2.0   2.0                       4   \n",
       "\n",
       "   minimum_maximum_nights  has_availability  availability_30  instant_bookable  \n",
       "0                      29                 1                0                 0  \n",
       "1                      60                 1                0                 1  \n",
       "2                    1125                 1                0                 0  \n",
       "3                     180                 1                7                 0  \n",
       "5                     180                 1                0                 1  "
      ]
     },
     "execution_count": 56,
     "metadata": {},
     "output_type": "execute_result"
    }
   ],
   "source": [
    "#Creating training and Testing sampling\n",
    "msk = np.random.rand(len(Chicago_nout1)) < 0.8\n",
    "train = Chicago_nout1[msk]\n",
    "test = Chicago_nout1[~msk]\n",
    "train_x = Chicago_nout1.drop(columns=['price'], inplace=False)\n",
    "train_y = Chicago_nout1['price']\n",
    "X.head()"
   ]
  },
  {
   "cell_type": "code",
   "execution_count": 57,
   "metadata": {},
   "outputs": [
    {
     "name": "stdout",
     "output_type": "stream",
     "text": [
      "The model performance for training set\n",
      "--------------------------------------\n",
      "R2 score is 0.7340916851499146\n",
      "\n",
      "\n"
     ]
    }
   ],
   "source": [
    "poly = PolynomialFeatures(degree= 4)\n",
    "poly_features = poly.fit_transform(X_train)\n",
    "poly.fit(X_train,Y_train)\n",
    "poly_regression = LinearRegression()\n",
    "poly_regression.fit(poly_features,Y_train)\n",
    "\n",
    "y_train_predict = poly_regression.predict(poly_features)\n",
    "rmse = (np.sqrt(mean_squared_error(Y_train, y_train_predict)))\n",
    "r2 = r2_score(Y_train, y_train_predict)\n",
    "print(\"The model performance for training set\")\n",
    "print(\"--------------------------------------\")\n",
    "print('R2 score is {}'.format(r2))\n",
    "print(\"\\n\")\n"
   ]
  },
  {
   "cell_type": "code",
   "execution_count": 58,
   "metadata": {},
   "outputs": [
    {
     "name": "stdout",
     "output_type": "stream",
     "text": [
      "The model performance for training set\n",
      "--------------------------------------\n",
      "R2 score is 0.9999966774844229\n",
      "\n",
      "\n"
     ]
    }
   ],
   "source": [
    "poly = PolynomialFeatures(degree= 4)\n",
    "poly_features = poly.fit_transform(X_test)\n",
    "poly.fit(X_test,Y_test)\n",
    "poly_regression = LinearRegression()\n",
    "poly_regression.fit(poly_features,Y_test)\n",
    "\n",
    "y_test_predict = poly_regression.predict(poly_features)\n",
    "rmse = (np.sqrt(mean_squared_error(Y_test, y_test_predict)))\n",
    "r2 = r2_score(Y_test, y_test_predict)\n",
    "print(\"The model performance for training set\")\n",
    "print(\"--------------------------------------\")\n",
    "print('R2 score is {}'.format(r2))\n",
    "print(\"\\n\")\n"
   ]
  },
  {
   "cell_type": "markdown",
   "metadata": {},
   "source": [
    "The polynomial model with degree= four training set has an R-square value of 0.73, and the testing set has an R-square value of 0.99. This model's R-square results are better than the multilinear regression model\n",
    "suggesting that the problem is non-linear. We will try to change the value of degreed to 6 and see if the R-square value improves. "
   ]
  },
  {
   "cell_type": "code",
   "execution_count": 59,
   "metadata": {},
   "outputs": [
    {
     "name": "stdout",
     "output_type": "stream",
     "text": [
      "The model performance for training set\n",
      "--------------------------------------\n",
      "R2 score is 0.9200102598087586\n",
      "\n",
      "\n"
     ]
    }
   ],
   "source": [
    "poly = PolynomialFeatures(degree= 6)\n",
    "poly_features = poly.fit_transform(X_train)\n",
    "poly.fit(X_train,Y_train)\n",
    "poly_regression = LinearRegression()\n",
    "poly_regression.fit(poly_features,Y_train)\n",
    "\n",
    "y_train_predict = poly_regression.predict(poly_features)\n",
    "rmse = (np.sqrt(mean_squared_error(Y_train, y_train_predict)))\n",
    "r2 = r2_score(Y_train, y_train_predict)\n",
    "print(\"The model performance for training set\")\n",
    "print(\"--------------------------------------\")\n",
    "print('R2 score is {}'.format(r2))\n",
    "print(\"\\n\")\n"
   ]
  },
  {
   "cell_type": "code",
   "execution_count": 60,
   "metadata": {},
   "outputs": [
    {
     "name": "stdout",
     "output_type": "stream",
     "text": [
      "The model performance for training set\n",
      "--------------------------------------\n",
      "R2 score is 0.9999999529094779\n",
      "\n",
      "\n"
     ]
    }
   ],
   "source": [
    "poly = PolynomialFeatures(degree= 6)\n",
    "poly_features = poly.fit_transform(X_test)\n",
    "poly.fit(X_test,Y_test)\n",
    "poly_regression = LinearRegression()\n",
    "poly_regression.fit(poly_features,Y_test)\n",
    "\n",
    "y_test_predict = poly_regression.predict(poly_features)\n",
    "rmse = (np.sqrt(mean_squared_error(Y_test, y_test_predict)))\n",
    "r2 = r2_score(Y_test, y_test_predict)\n",
    "print(\"The model performance for training set\")\n",
    "print(\"--------------------------------------\")\n",
    "print('R2 score is {}'.format(r2))\n",
    "print(\"\\n\")\n"
   ]
  },
  {
   "cell_type": "markdown",
   "metadata": {},
   "source": [
    "The Polynomial model with degree = six has an R-square of 0.92 in the training set and an R-square of 0.99 in the testing set. R-square results in this model are better than the Polynomial model with degree=4."
   ]
  },
  {
   "cell_type": "markdown",
   "metadata": {},
   "source": [
    "## Conclusion:\n",
    "The model with the highest R-squared value was polynomial regression with degree = 6. \n",
    "Airbnb's characteristics explain 92% of the total variation in the Airbnb price.\n"
   ]
  },
  {
   "cell_type": "code",
   "execution_count": null,
   "metadata": {},
   "outputs": [],
   "source": []
  }
 ],
 "metadata": {
  "kernelspec": {
   "display_name": "Python 3",
   "language": "python",
   "name": "python3"
  },
  "language_info": {
   "codemirror_mode": {
    "name": "ipython",
    "version": 3
   },
   "file_extension": ".py",
   "mimetype": "text/x-python",
   "name": "python",
   "nbconvert_exporter": "python",
   "pygments_lexer": "ipython3",
   "version": "3.8.5"
  }
 },
 "nbformat": 4,
 "nbformat_minor": 1
}
